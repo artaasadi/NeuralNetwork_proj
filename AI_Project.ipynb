{
  "nbformat": 4,
  "nbformat_minor": 0,
  "metadata": {
    "colab": {
      "name": "AI_Project.ipynb",
      "provenance": [],
      "collapsed_sections": [],
      "toc_visible": true,
      "authorship_tag": "ABX9TyN3bswIb47onJy8Kw1cPYlA",
      "include_colab_link": true
    },
    "kernelspec": {
      "name": "python3",
      "display_name": "Python 3"
    },
    "language_info": {
      "name": "python"
    }
  },
  "cells": [
    {
      "cell_type": "markdown",
      "metadata": {
        "id": "view-in-github",
        "colab_type": "text"
      },
      "source": [
        "<a href=\"https://colab.research.google.com/github/artaasadi/NeuralNetwork_proj/blob/main/AI_Project.ipynb\" target=\"_parent\"><img src=\"https://colab.research.google.com/assets/colab-badge.svg\" alt=\"Open In Colab\"/></a>"
      ]
    },
    {
      "cell_type": "code",
      "metadata": {
        "id": "Cqh5Q1UoecNW"
      },
      "source": [
        "import numpy as np\n",
        "import pandas as pd\n",
        "import pickle\n",
        "import random\n",
        "import matplotlib.pyplot as plt"
      ],
      "execution_count": 60,
      "outputs": []
    },
    {
      "cell_type": "markdown",
      "metadata": {
        "id": "lwGn4nM9CLaE"
      },
      "source": [
        "# Loading Data\n",
        "after importing packages the needed data are gotten from google drive"
      ]
    },
    {
      "cell_type": "code",
      "metadata": {
        "colab": {
          "base_uri": "https://localhost:8080/",
          "height": 0
        },
        "id": "MxRg6QzafeVE",
        "outputId": "3dc539bc-c0a6-47bb-c138-4ef95d68e996"
      },
      "source": [
        "from google.colab import drive\n",
        "drive.mount('/content/drive')"
      ],
      "execution_count": 61,
      "outputs": [
        {
          "output_type": "stream",
          "name": "stdout",
          "text": [
            "Drive already mounted at /content/drive; to attempt to forcibly remount, call drive.mount(\"/content/drive\", force_remount=True).\n"
          ]
        }
      ]
    },
    {
      "cell_type": "code",
      "metadata": {
        "colab": {
          "base_uri": "https://localhost:8080/",
          "height": 0
        },
        "id": "37c3zN8Vg4LK",
        "outputId": "276ae542-c8fc-4774-efbf-ec226650e406"
      },
      "source": [
        "cd drive/'My Drive'/'Colab Notebooks'/AI_Project_Files"
      ],
      "execution_count": 62,
      "outputs": [
        {
          "output_type": "stream",
          "name": "stdout",
          "text": [
            "[Errno 2] No such file or directory: 'drive/My Drive/Colab Notebooks/AI_Project_Files'\n",
            "/content/drive/My Drive/Colab Notebooks/AI_Project_Files\n"
          ]
        }
      ]
    },
    {
      "cell_type": "markdown",
      "metadata": {
        "id": "GsjGj0Y5ChSO"
      },
      "source": [
        "getting data from pkl file and reshaping them to 102\n",
        "then shuffling them"
      ]
    },
    {
      "cell_type": "code",
      "metadata": {
        "colab": {
          "base_uri": "https://localhost:8080/",
          "height": 0
        },
        "id": "40e-Q9pKh285",
        "outputId": "e91980b1-a7c0-4de4-9048-2dcba3269389"
      },
      "source": [
        "# loading training set features\n",
        "f = open(\"Datasets/train_set_features.pkl\", \"rb\")\n",
        "train_set_features2 = pickle.load(f)\n",
        "f.close()\n",
        "\n",
        "# reducing feature vector length \n",
        "features_STDs = np.std(a=train_set_features2, axis=0)\n",
        "train_set_features = train_set_features2[:, features_STDs > 52.3]\n",
        "\n",
        "# changing the range of data between 0 and 1\n",
        "train_set_features = np.divide(train_set_features, train_set_features.max())\n",
        "\n",
        "# loading training set labels\n",
        "f = open(\"Datasets/train_set_labels.pkl\", \"rb\")\n",
        "train_set_labels = pickle.load(f)\n",
        "f.close()\n",
        "\n",
        "# ------------\n",
        "# loading test set features\n",
        "f = open(\"Datasets/test_set_features.pkl\", \"rb\")\n",
        "test_set_features2 = pickle.load(f)\n",
        "f.close()\n",
        "\n",
        "# reducing feature vector length \n",
        "features_STDs = np.std(a=test_set_features2, axis=0)\n",
        "test_set_features = test_set_features2[:, features_STDs > 48]\n",
        "\n",
        "# changing the range of data between 0 and 1\n",
        "test_set_features = np.divide(test_set_features, test_set_features.max())\n",
        "\n",
        "# loading test set labels\n",
        "f = open(\"Datasets/test_set_labels.pkl\", \"rb\")\n",
        "test_set_labels = pickle.load(f)\n",
        "f.close()\n",
        "\n",
        "# ------------\n",
        "# preparing our training and test sets - joining datasets and lables\n",
        "train_set = []\n",
        "test_set = []\n",
        "\n",
        "for i in range(len(train_set_features)):\n",
        "    label = np.array([0,0,0,0])\n",
        "    label[int(train_set_labels[i])] = 1\n",
        "    label = label.reshape(4,1)\n",
        "    train_set.append((train_set_features[i].reshape(102,1), label))\n",
        "    \n",
        "\n",
        "for i in range(len(test_set_features)):\n",
        "    label = np.array([0,0,0,0])\n",
        "    label[int(test_set_labels[i])] = 1\n",
        "    label = label.reshape(4,1)\n",
        "    test_set.append((test_set_features[i].reshape(102,1), label))\n",
        "\n",
        "# shuffle\n",
        "random.shuffle(train_set)\n",
        "random.shuffle(test_set)\n",
        "\n",
        "# print size\n",
        "print(len(train_set)) #1962\n",
        "print(len(test_set)) #662"
      ],
      "execution_count": 63,
      "outputs": [
        {
          "output_type": "stream",
          "name": "stdout",
          "text": [
            "1962\n",
            "662\n"
          ]
        }
      ]
    },
    {
      "cell_type": "markdown",
      "metadata": {
        "id": "7oyw9apGCu2Y"
      },
      "source": [
        "defining weights by normal distribution and defining biases by zero"
      ]
    },
    {
      "cell_type": "code",
      "metadata": {
        "id": "UNYgAI38h5aH"
      },
      "source": [
        "W1 = np.random.normal(0, 1.0, [150, 102])\n",
        "W2 = np.random.normal(0, 1.0, [60, 150])\n",
        "W3 = np.random.normal(0, 1.0, [4, 60])\n",
        "b1 = np.zeros([150,1])\n",
        "b2 = np.zeros([60,1])\n",
        "b3 = np.zeros([4,1])"
      ],
      "execution_count": 6,
      "outputs": []
    },
    {
      "cell_type": "code",
      "metadata": {
        "colab": {
          "base_uri": "https://localhost:8080/",
          "height": 265
        },
        "id": "LIFZMLIArRnk",
        "outputId": "6ca44643-811b-45e7-a556-c1cac21decf9"
      },
      "source": [
        "import matplotlib.pyplot as plt\n",
        "count, bins, ignored = plt.hist(W1[0], 30, density=True)\n",
        "plt.plot(bins, 1/(np.sqrt(2 * np.pi)) *\n",
        "               np.exp( - (bins)**2 / 2 ),\n",
        "         linewidth=2, color='r')\n",
        "plt.show()"
      ],
      "execution_count": 64,
      "outputs": [
        {
          "output_type": "display_data",
          "data": {
            "image/png": "[encoded data removed]",
            "text/plain": [
              "<Figure size 432x288 with 1 Axes>"
            ]
          },
          "metadata": {
            "needs_background": "light"
          }
        }
      ]
    },
    {
      "cell_type": "markdown",
      "metadata": {
        "id": "DzGX5hXsC7Wx"
      },
      "source": [
        "changed lists to np array to work easier"
      ]
    },
    {
      "cell_type": "code",
      "metadata": {
        "colab": {
          "base_uri": "https://localhost:8080/",
          "height": 0
        },
        "id": "PgdWlEQwvLBi",
        "outputId": "c1cb342a-8989-4d06-e537-b14ca9c9d53c"
      },
      "source": [
        "train_set200 = np.array(random.sample(train_set, 200))\n",
        "test_set200 = np.array(random.sample(test_set, 200))\n",
        "train_set = np.array(train_set)\n",
        "test_set = np.array(test_set)"
      ],
      "execution_count": 65,
      "outputs": [
        {
          "output_type": "stream",
          "name": "stderr",
          "text": [
            "/usr/local/lib/python3.7/dist-packages/ipykernel_launcher.py:1: VisibleDeprecationWarning: Creating an ndarray from ragged nested sequences (which is a list-or-tuple of lists-or-tuples-or ndarrays with different lengths or shapes) is deprecated. If you meant to do this, you must specify 'dtype=object' when creating the ndarray\n",
            "  \"\"\"Entry point for launching an IPython kernel.\n",
            "/usr/local/lib/python3.7/dist-packages/ipykernel_launcher.py:2: VisibleDeprecationWarning: Creating an ndarray from ragged nested sequences (which is a list-or-tuple of lists-or-tuples-or ndarrays with different lengths or shapes) is deprecated. If you meant to do this, you must specify 'dtype=object' when creating the ndarray\n",
            "  \n",
            "/usr/local/lib/python3.7/dist-packages/ipykernel_launcher.py:3: VisibleDeprecationWarning: Creating an ndarray from ragged nested sequences (which is a list-or-tuple of lists-or-tuples-or ndarrays with different lengths or shapes) is deprecated. If you meant to do this, you must specify 'dtype=object' when creating the ndarray\n",
            "  This is separate from the ipykernel package so we can avoid doing imports until\n",
            "/usr/local/lib/python3.7/dist-packages/ipykernel_launcher.py:4: VisibleDeprecationWarning: Creating an ndarray from ragged nested sequences (which is a list-or-tuple of lists-or-tuples-or ndarrays with different lengths or shapes) is deprecated. If you meant to do this, you must specify 'dtype=object' when creating the ndarray\n",
            "  after removing the cwd from sys.path.\n"
          ]
        }
      ]
    },
    {
      "cell_type": "markdown",
      "metadata": {
        "id": "S4rqS2HIDKRR"
      },
      "source": [
        "# FeedForward\n",
        "while the weights are settled by normal distribution and we have 4 labels the accuracy is usualy near to 0.25"
      ]
    },
    {
      "cell_type": "code",
      "metadata": {
        "colab": {
          "base_uri": "https://localhost:8080/"
        },
        "id": "5pi0iJAqz-sw",
        "outputId": "a6d790aa-cd37-4f4a-942f-e5f58659e56c"
      },
      "source": [
        "def sigmoid(x) :\n",
        "  return 1/(1 + np.exp(-x))\n",
        "\n",
        "counter = 0\n",
        "for sample in train_set200 :\n",
        "  a1 = sigmoid(W1 @ sample[0] + b1)\n",
        "  a2 = sigmoid(W2 @ a1 + b2)\n",
        "  a3 = sigmoid(W3 @ a2 + b3)\n",
        "  if (np.argmax(a3) == np.argmax(sample[1])) :\n",
        "    counter += 1\n",
        "accuracy = (counter/200)\n",
        "print(accuracy)"
      ],
      "execution_count": null,
      "outputs": [
        {
          "output_type": "stream",
          "name": "stdout",
          "text": [
            "0.175\n"
          ]
        }
      ]
    },
    {
      "cell_type": "markdown",
      "metadata": {
        "id": "k_HM9jpj1mWw"
      },
      "source": [
        "# BackPropagation\n"
      ]
    },
    {
      "cell_type": "code",
      "metadata": {
        "id": "ImpkSVY43Wpj"
      },
      "source": [
        "def sigmoid(x) :\n",
        "  return 1/(1 + np.exp(-x))\n",
        "\n",
        "learning_rate = 1\n",
        "epochs_num = 20\n",
        "batch_size = 10\n",
        "cost_list = []\n",
        "accuracy_list = []\n",
        "for epoch in range(0, epochs_num) :\n",
        "  np.random.shuffle(train_set200)\n",
        "  batches = np.array_split(train_set200, 200//batch_size)\n",
        "  cost = 0\n",
        "  accuracy = 0\n",
        "  for batch in batches :\n",
        "    W1_grad = np.zeros([150, 102])\n",
        "    W2_grad = np.zeros([60, 150])\n",
        "    W3_grad = np.zeros([4, 60])\n",
        "    b1_grad = np.zeros([150, 1])\n",
        "    b2_grad = np.zeros([60, 1])\n",
        "    b3_grad = np.zeros([4, 1])\n",
        "    for sample, label in batch :\n",
        "      a1 = sigmoid(W1 @ sample + b1)\n",
        "      a2 = sigmoid(W2 @ a1 + b2)\n",
        "      a3 = sigmoid(W3 @ a2 + b3)\n",
        "      cost += np.sum(np.power((a3-label),2))\n",
        "      if (np.argmax(a3) == np.argmax(label)) :\n",
        "        accuracy += 1\n",
        "\n",
        "\n",
        "      for j in range(W3_grad.shape[0]):\n",
        "        for k in range(W3_grad.shape[1]):\n",
        "          W3_grad[j, k] += 2 * (a3[j, 0] - label[j, 0]) * a3[j, 0] * (1 - a3[j, 0]) * a2[k, 0]\n",
        "            \n",
        "      for j in range(b3_grad.shape[0]):\n",
        "        b3_grad[j, 0] += 2 * (a3[j, 0] - label[j, 0]) * a3[j, 0] * (1 - a3[j, 0])\n",
        "            \n",
        "\n",
        "      a2_grad = np.zeros((W3_grad.shape[1], 1))\n",
        "      for k in range(W3_grad.shape[1]):\n",
        "        for j in range(W3_grad.shape[0]):\n",
        "          a2_grad[k, 0] += 2 * (a3[j, 0] - label[j, 0]) * a3[j, 0] * (1 - a3[j, 0]) * W3[j, k]\n",
        "            \n",
        "      for k in range(W2_grad.shape[0]):\n",
        "        for m in range(W2_grad.shape[1]):\n",
        "          W2_grad[k, m] += a2_grad[k, 0] * a2[k,0] * (1 - a2[k, 0]) * a1[m, 0]\n",
        "            \n",
        "      for k in range(b2_grad.shape[0]):\n",
        "        b2_grad[k, 0] += a2_grad[k, 0] * a2[k, 0] * (1 - a2[k, 0])\n",
        "                    \n",
        "\n",
        "      a1_grad = np.zeros((W2_grad.shape[1], 1))\n",
        "      for m in range(W2_grad.shape[1]):\n",
        "        for k in range(W2_grad.shape[0]):\n",
        "          a1_grad[m, 0] += a2_grad[k, 0] * a2[k, 0] * (1 - a2[k, 0]) * W2[k, m]\n",
        "            \n",
        "      for m in range(W1_grad.shape[0]):\n",
        "        for v in range(W1_grad.shape[1]):\n",
        "          W1_grad[m, v] += a1_grad[m, 0] * a1[m,0] * (1 - a1[m, 0]) * sample[v, 0]\n",
        "                    \n",
        "      for m in range(b1_grad.shape[0]):\n",
        "        b1_grad[m, 0] += a1_grad[m, 0] * a1[m, 0] * (1 - a1[m, 0])\n",
        "        \n",
        "    W3 = W3 - (learning_rate * (W3_grad / batch_size))\n",
        "    W2 = W2 - (learning_rate * (W2_grad / batch_size))\n",
        "    W1 = W1 - (learning_rate * (W1_grad / batch_size))\n",
        "        \n",
        "    b3 = b3 - (learning_rate * (b3_grad / batch_size))\n",
        "    b2 = b2 - (learning_rate * (b2_grad / batch_size))\n",
        "    b1 = b1 - (learning_rate * (b1_grad / batch_size))\n",
        "  cost_list.append(cost / 200)\n",
        "  accuracy_list.append(accuracy / 200)"
      ],
      "execution_count": null,
      "outputs": []
    },
    {
      "cell_type": "markdown",
      "metadata": {
        "id": "BBo7PA84L1NC"
      },
      "source": [
        "this will take about 8 minutes for 20 epochs and 200 of the trainset"
      ]
    },
    {
      "cell_type": "code",
      "metadata": {
        "colab": {
          "base_uri": "https://localhost:8080/",
          "height": 609
        },
        "id": "6_kSijplvayS",
        "outputId": "cd401831-978a-4542-c9fd-e51bf16690d2"
      },
      "source": [
        "epoch_size = [x for x in range(epochs_num)]\n",
        "plt.plot(epoch_size, cost_list)\n",
        "cost_list"
      ],
      "execution_count": null,
      "outputs": [
        {
          "output_type": "execute_result",
          "data": {
            "text/plain": [
              "[1.10232670684065,\n",
              " 0.9654826993755752,\n",
              " 0.8778780199838943,\n",
              " 0.7933508654120861,\n",
              " 0.8806997459514833,\n",
              " 0.7000897411771799,\n",
              " 0.5869163843680466,\n",
              " 0.49408999726415864,\n",
              " 0.4860751361292464,\n",
              " 0.48746805032824886,\n",
              " 0.47961557232183594,\n",
              " 0.4748380140077601,\n",
              " 0.47375928051463584,\n",
              " 0.47459089560701934,\n",
              " 0.43066218646441207,\n",
              " 0.29279620411951407,\n",
              " 0.25842344697598896,\n",
              " 0.20974101300903977,\n",
              " 0.18607886547106134,\n",
              " 0.18265918507642487]"
            ]
          },
          "metadata": {},
          "execution_count": 10
        },
        {
          "output_type": "display_data",
          "data": {
            "image/png": "[encoded data removed]",
            "text/plain": [
              "<Figure size 432x288 with 1 Axes>"
            ]
          },
          "metadata": {
            "needs_background": "light"
          }
        }
      ]
    },
    {
      "cell_type": "code",
      "metadata": {
        "colab": {
          "base_uri": "https://localhost:8080/",
          "height": 609
        },
        "id": "yFXk8e-T2aA-",
        "outputId": "a1a33d62-2513-40c6-837e-8b99773ceeef"
      },
      "source": [
        "epoch_size = [x for x in range(epochs_num)]\n",
        "plt.plot(epoch_size, accuracy_list)\n",
        "accuracy_list"
      ],
      "execution_count": null,
      "outputs": [
        {
          "output_type": "execute_result",
          "data": {
            "text/plain": [
              "[0.21,\n",
              " 0.245,\n",
              " 0.265,\n",
              " 0.235,\n",
              " 0.34,\n",
              " 0.45,\n",
              " 0.505,\n",
              " 0.53,\n",
              " 0.53,\n",
              " 0.53,\n",
              " 0.53,\n",
              " 0.53,\n",
              " 0.53,\n",
              " 0.53,\n",
              " 0.695,\n",
              " 0.795,\n",
              " 0.8,\n",
              " 0.815,\n",
              " 0.825,\n",
              " 0.825]"
            ]
          },
          "metadata": {},
          "execution_count": 11
        },
        {
          "output_type": "display_data",
          "data": {
            "image/png": "[encoded data removed]",
            "text/plain": [
              "<Figure size 432x288 with 1 Axes>"
            ]
          },
          "metadata": {
            "needs_background": "light"
          }
        }
      ]
    },
    {
      "cell_type": "markdown",
      "metadata": {
        "id": "nuH5YPgF915P"
      },
      "source": [
        "# Vectorization"
      ]
    },
    {
      "cell_type": "markdown",
      "metadata": {
        "id": "8AeuNXOREdUc"
      },
      "source": [
        "reseting the weights and biases so the new approach could be tested"
      ]
    },
    {
      "cell_type": "code",
      "metadata": {
        "id": "KO4IN4peEW91"
      },
      "source": [
        "del W1\n",
        "del W2\n",
        "del W3\n",
        "del b1\n",
        "del b2\n",
        "del b3\n",
        "W1 = np.random.normal(0, 1.0, [150, 102])\n",
        "W2 = np.random.normal(0, 1.0, [60, 150])\n",
        "W3 = np.random.normal(0, 1.0, [4, 60])\n",
        "b1 = np.zeros([150,1])\n",
        "b2 = np.zeros([60,1])\n",
        "b3 = np.zeros([4,1])"
      ],
      "execution_count": 53,
      "outputs": []
    },
    {
      "cell_type": "markdown",
      "metadata": {
        "id": "Yebx4RyiFHiv"
      },
      "source": [
        "we used only 200 number of the dataset because the lack of speed\n",
        "but with the new approach we have enough speed to use the whole dataset\n",
        "now we use the whole dataset"
      ]
    },
    {
      "cell_type": "code",
      "metadata": {
        "id": "l11KyX6vzRl7",
        "colab": {
          "base_uri": "https://localhost:8080/",
          "height": 0
        },
        "outputId": "0ff9fff3-21e5-40b2-c381-f44fc9702566"
      },
      "source": [
        "def sigmoid(x) :\n",
        "  return 1/(1 + np.exp(-x))\n",
        "\n",
        "learning_rate = 1\n",
        "epochs_num = 20\n",
        "batch_size = 10\n",
        "cost_list = []\n",
        "accuracy_list = []\n",
        "for epoch in range(0, epochs_num) :\n",
        "  np.random.shuffle(train_set)\n",
        "  batches = np.array_split(train_set, len(train_set)//batch_size)\n",
        "  cost = 0\n",
        "  accuracy = 0\n",
        "  for batch in batches :\n",
        "    W1_grad = np.zeros([150, 102])\n",
        "    W2_grad = np.zeros([60, 150])\n",
        "    W3_grad = np.zeros([4, 60])\n",
        "    b1_grad = np.zeros([150, 1])\n",
        "    b2_grad = np.zeros([60, 1])\n",
        "    b3_grad = np.zeros([4, 1])\n",
        "    for sample, label in batch :\n",
        "      a1 = sigmoid(W1 @ sample + b1)\n",
        "      a2 = sigmoid(W2 @ a1 + b2)\n",
        "      a3 = sigmoid(W3 @ a2 + b3)\n",
        "      cost += np.sum(np.power((a3-label),2))\n",
        "      if (np.argmax(a3) == np.argmax(label)) :\n",
        "        accuracy += 1\n",
        "\n",
        "      W3_grad += (2 * (a3 - label) * (a3 * (1 - a3))) @ np.transpose(a2)   \n",
        "\n",
        "      b3_grad += 2 * (a3 - label) * (a3 * (1 - a3))\n",
        "      \n",
        "      a2_grad = np.zeros([W3_grad.shape[1], 1])\n",
        "      a2_grad = np.transpose(W3) @ (2 * (a3 - label) * (a3 * (1 - a3)))\n",
        "\n",
        "      W2_grad += (a2_grad * (a2 * (1 - a2))) @ np.transpose(a1)\n",
        "\n",
        "      b2_grad += a2_grad * (a2 * (1 - a2))\n",
        "                    \n",
        "      a1_grad = np.zeros([W2_grad.shape[1], 1])\n",
        "      a1_grad += np.transpose(W2) @ (a2_grad * (a2 * (1 - a2)))\n",
        "\n",
        "      W1_grad += (a1_grad * (a1 * (1 - a1))) @ np.transpose(sample)\n",
        "\n",
        "      b1_grad += a1_grad * (a1 * (1 - a1))\n",
        "        \n",
        "    W3 = W3 - (learning_rate * (W3_grad / batch_size))\n",
        "    W2 = W2 - (learning_rate * (W2_grad / batch_size))\n",
        "    W1 = W1 - (learning_rate * (W1_grad / batch_size))\n",
        "        \n",
        "    b3 = b3 - (learning_rate * (b3_grad / batch_size))\n",
        "    b2 = b2 - (learning_rate * (b2_grad / batch_size))\n",
        "    b1 = b1 - (learning_rate * (b1_grad / batch_size))\n",
        "  cost_list.append(cost / len(train_set))\n",
        "  accuracy_list.append(accuracy / len(train_set))"
      ],
      "execution_count": 54,
      "outputs": [
        {
          "output_type": "stream",
          "name": "stderr",
          "text": [
            "/usr/local/lib/python3.7/dist-packages/numpy/core/_asarray.py:83: VisibleDeprecationWarning: Creating an ndarray from ragged nested sequences (which is a list-or-tuple of lists-or-tuples-or ndarrays with different lengths or shapes) is deprecated. If you meant to do this, you must specify 'dtype=object' when creating the ndarray\n",
            "  return array(a, dtype, copy=False, order=order)\n"
          ]
        }
      ]
    },
    {
      "cell_type": "markdown",
      "metadata": {
        "id": "6uTjr_IBL829"
      },
      "source": [
        "this will take about 14 seconds for 20 epochs and whole of the train set (1962)"
      ]
    },
    {
      "cell_type": "code",
      "metadata": {
        "colab": {
          "base_uri": "https://localhost:8080/",
          "height": 282
        },
        "id": "T7W6_fiRzSVL",
        "outputId": "60e8a8a9-673e-4801-be70-dba40ba91968"
      },
      "source": [
        "epoch_size = [x for x in range(epochs_num)]\n",
        "plt.plot(epoch_size, cost_list)"
      ],
      "execution_count": 55,
      "outputs": [
        {
          "output_type": "execute_result",
          "data": {
            "text/plain": [
              "[<matplotlib.lines.Line2D at 0x7f9d7cacac10>]"
            ]
          },
          "metadata": {},
          "execution_count": 55
        },
        {
          "output_type": "display_data",
          "data": {
            "image/png": "[encoded data removed]",
            "text/plain": [
              "<Figure size 432x288 with 1 Axes>"
            ]
          },
          "metadata": {
            "needs_background": "light"
          }
        }
      ]
    },
    {
      "cell_type": "code",
      "metadata": {
        "colab": {
          "base_uri": "https://localhost:8080/",
          "height": 282
        },
        "id": "n4Biuir2AH7S",
        "outputId": "d223e64f-e41f-4d7b-94e8-bdf1172fec7a"
      },
      "source": [
        "epoch_size = [x for x in range(epochs_num)]\n",
        "plt.plot(epoch_size, accuracy_list)\n"
      ],
      "execution_count": 56,
      "outputs": [
        {
          "output_type": "execute_result",
          "data": {
            "text/plain": [
              "[<matplotlib.lines.Line2D at 0x7f9d7caca3d0>]"
            ]
          },
          "metadata": {},
          "execution_count": 56
        },
        {
          "output_type": "display_data",
          "data": {
            "image/png": "[encoded data removed]",
            "text/plain": [
              "<Figure size 432x288 with 1 Axes>"
            ]
          },
          "metadata": {
            "needs_background": "light"
          }
        }
      ]
    },
    {
      "cell_type": "markdown",
      "metadata": {
        "id": "_b5nTCUJE9U4"
      },
      "source": [
        "# Testing"
      ]
    },
    {
      "cell_type": "code",
      "metadata": {
        "colab": {
          "base_uri": "https://localhost:8080/"
        },
        "id": "Dyd_a2QkFAPJ",
        "outputId": "d059e839-a3b6-4f8e-ed2a-37284885724a"
      },
      "source": [
        "cost = 0\n",
        "accuracy = 0\n",
        "for sample, label in test_set :\n",
        "      a1 = sigmoid(W1 @ sample + b1)\n",
        "      a2 = sigmoid(W2 @ a1 + b2)\n",
        "      a3 = sigmoid(W3 @ a2 + b3)\n",
        "      cost += np.sum(np.power((a3-label),2))\n",
        "      if (np.argmax(a3) == np.argmax(label)) :\n",
        "        accuracy += 1\n",
        "print(cost / len(test_set))\n",
        "print(accuracy / len(test_set))"
      ],
      "execution_count": null,
      "outputs": [
        {
          "output_type": "stream",
          "name": "stdout",
          "text": [
            "0.002700232935005279\n",
            "1.0\n"
          ]
        }
      ]
    },
    {
      "cell_type": "code",
      "metadata": {
        "colab": {
          "base_uri": "https://localhost:8080/"
        },
        "id": "qOQ5anx_HM1h",
        "outputId": "4ff6adb3-dcbe-426e-fa69-57f31723959d"
      },
      "source": [
        "a3"
      ],
      "execution_count": null,
      "outputs": [
        {
          "output_type": "execute_result",
          "data": {
            "text/plain": [
              "array([[0.98755414],\n",
              "       [0.00452394],\n",
              "       [0.03010565],\n",
              "       [0.00659205]])"
            ]
          },
          "metadata": {},
          "execution_count": 43
        }
      ]
    },
    {
      "cell_type": "markdown",
      "metadata": {
        "id": "s8sDtSEUDN01"
      },
      "source": [
        "### testing other epoch numbers, batch sizes and learning rates\n",
        "the actual test was for 20 epochs and batch_size of 10 and learning rate of 1"
      ]
    },
    {
      "cell_type": "code",
      "metadata": {
        "id": "DiQjAEliHRQx",
        "colab": {
          "base_uri": "https://localhost:8080/",
          "height": 282
        },
        "outputId": "53d7e6ee-e298-45df-e4b4-849c3eff599d"
      },
      "source": [
        "epoch_size = [x for x in range(epochs_num)]\n",
        "plt.plot(epoch_size, cost_list_l2_e20_b20)"
      ],
      "execution_count": 23,
      "outputs": [
        {
          "output_type": "execute_result",
          "data": {
            "text/plain": [
              "[<matplotlib.lines.Line2D at 0x7f9d7cd698d0>]"
            ]
          },
          "metadata": {},
          "execution_count": 23
        },
        {
          "output_type": "display_data",
          "data": {
            "image/png": "[encoded data removed]",
            "text/plain": [
              "<Figure size 432x288 with 1 Axes>"
            ]
          },
          "metadata": {
            "needs_background": "light"
          }
        }
      ]
    },
    {
      "cell_type": "code",
      "metadata": {
        "colab": {
          "base_uri": "https://localhost:8080/",
          "height": 282
        },
        "id": "8QuL7ZBPD3RH",
        "outputId": "9e022ef9-da08-400a-804b-d3cbeaff9ae2"
      },
      "source": [
        "epoch_size = [x for x in range(epochs_num)]\n",
        "plt.plot(epoch_size, accuracy_list_l2_e20_b20)"
      ],
      "execution_count": 14,
      "outputs": [
        {
          "output_type": "execute_result",
          "data": {
            "text/plain": [
              "[<matplotlib.lines.Line2D at 0x7f9d7cdf9d90>]"
            ]
          },
          "metadata": {},
          "execution_count": 14
        },
        {
          "output_type": "display_data",
          "data": {
            "image/png": "[encoded data removed]",
            "text/plain": [
              "<Figure size 432x288 with 1 Axes>"
            ]
          },
          "metadata": {
            "needs_background": "light"
          }
        }
      ]
    },
    {
      "cell_type": "code",
      "metadata": {
        "colab": {
          "base_uri": "https://localhost:8080/",
          "height": 282
        },
        "id": "xDNv4vHHExxe",
        "outputId": "b4eb601a-92d8-4aa1-b4f1-f2ac66e72526"
      },
      "source": [
        "epoch_size = [x for x in range(epochs_num)]\n",
        "plt.plot(epoch_size, cost_list_l1_e20_b20)"
      ],
      "execution_count": 24,
      "outputs": [
        {
          "output_type": "execute_result",
          "data": {
            "text/plain": [
              "[<matplotlib.lines.Line2D at 0x7f9d7ca26190>]"
            ]
          },
          "metadata": {},
          "execution_count": 24
        },
        {
          "output_type": "display_data",
          "data": {
            "image/png": "[encoded data removed]",
            "text/plain": [
              "<Figure size 432x288 with 1 Axes>"
            ]
          },
          "metadata": {
            "needs_background": "light"
          }
        }
      ]
    },
    {
      "cell_type": "code",
      "metadata": {
        "colab": {
          "base_uri": "https://localhost:8080/",
          "height": 282
        },
        "id": "uikk8DTPFLe6",
        "outputId": "3f24894c-e9f2-48df-bda5-6ec3d3b6233d"
      },
      "source": [
        "epoch_size = [x for x in range(epochs_num)]\n",
        "plt.plot(epoch_size, accuracy_list_l1_e20_b20)"
      ],
      "execution_count": 25,
      "outputs": [
        {
          "output_type": "execute_result",
          "data": {
            "text/plain": [
              "[<matplotlib.lines.Line2D at 0x7f9d7ce08a10>]"
            ]
          },
          "metadata": {},
          "execution_count": 25
        },
        {
          "output_type": "display_data",
          "data": {
            "image/png": "[encoded data removed]",
            "text/plain": [
              "<Figure size 432x288 with 1 Axes>"
            ]
          },
          "metadata": {
            "needs_background": "light"
          }
        }
      ]
    },
    {
      "cell_type": "code",
      "metadata": {
        "colab": {
          "base_uri": "https://localhost:8080/",
          "height": 284
        },
        "id": "rrkPOlsnFVtr",
        "outputId": "c3b79473-2f55-4302-baed-19c3cfd0d413"
      },
      "source": [
        "epoch_size = [x for x in range(epochs_num)]\n",
        "plt.plot(epoch_size, cost_list_l1_e20_b10)"
      ],
      "execution_count": 32,
      "outputs": [
        {
          "output_type": "execute_result",
          "data": {
            "text/plain": [
              "[<matplotlib.lines.Line2D at 0x7f9d7c902810>]"
            ]
          },
          "metadata": {},
          "execution_count": 32
        },
        {
          "output_type": "display_data",
          "data": {
            "image/png": "[encoded data removed]",
            "text/plain": [
              "<Figure size 432x288 with 1 Axes>"
            ]
          },
          "metadata": {
            "needs_background": "light"
          }
        }
      ]
    },
    {
      "cell_type": "code",
      "metadata": {
        "colab": {
          "base_uri": "https://localhost:8080/",
          "height": 282
        },
        "id": "MlNHmSG2Gaaz",
        "outputId": "ada152dc-da98-46af-e1b4-b889da8e86db"
      },
      "source": [
        "epoch_size = [x for x in range(epochs_num)]\n",
        "plt.plot(epoch_size, accuracy_list_l1_e20_b10)"
      ],
      "execution_count": 33,
      "outputs": [
        {
          "output_type": "execute_result",
          "data": {
            "text/plain": [
              "[<matplotlib.lines.Line2D at 0x7f9d7c902550>]"
            ]
          },
          "metadata": {},
          "execution_count": 33
        },
        {
          "output_type": "display_data",
          "data": {
            "image/png": "[encoded data removed]",
            "text/plain": [
              "<Figure size 432x288 with 1 Axes>"
            ]
          },
          "metadata": {
            "needs_background": "light"
          }
        }
      ]
    },
    {
      "cell_type": "code",
      "metadata": {
        "colab": {
          "base_uri": "https://localhost:8080/",
          "height": 282
        },
        "id": "dQFd19JXGohR",
        "outputId": "34328e9d-a88b-4f98-c340-4f1435689727"
      },
      "source": [
        "epoch_size = [x for x in range(epochs_num)]\n",
        "plt.plot(epoch_size, cost_list_l05_e20_b10)"
      ],
      "execution_count": 38,
      "outputs": [
        {
          "output_type": "execute_result",
          "data": {
            "text/plain": [
              "[<matplotlib.lines.Line2D at 0x7f9d7c80c9d0>]"
            ]
          },
          "metadata": {},
          "execution_count": 38
        },
        {
          "output_type": "display_data",
          "data": {
            "image/png": "[encoded data removed]",
            "text/plain": [
              "<Figure size 432x288 with 1 Axes>"
            ]
          },
          "metadata": {
            "needs_background": "light"
          }
        }
      ]
    },
    {
      "cell_type": "code",
      "metadata": {
        "colab": {
          "base_uri": "https://localhost:8080/",
          "height": 282
        },
        "id": "qk9da9Z8ILOL",
        "outputId": "a5ad5e87-77ee-4d9a-ac42-9468a850f5ee"
      },
      "source": [
        "epoch_size = [x for x in range(epochs_num)]\n",
        "plt.plot(epoch_size, accuracy_list_l05_e20_b10)"
      ],
      "execution_count": 39,
      "outputs": [
        {
          "output_type": "execute_result",
          "data": {
            "text/plain": [
              "[<matplotlib.lines.Line2D at 0x7f9d7c7cfe50>]"
            ]
          },
          "metadata": {},
          "execution_count": 39
        },
        {
          "output_type": "display_data",
          "data": {
            "image/png": "[encoded data removed]",
            "text/plain": [
              "<Figure size 432x288 with 1 Axes>"
            ]
          },
          "metadata": {
            "needs_background": "light"
          }
        }
      ]
    },
    {
      "cell_type": "markdown",
      "metadata": {
        "id": "CsZ2p7fZIWGk"
      },
      "source": [
        "as we see reducing batch size and learning_rate could increase accuracy"
      ]
    },
    {
      "cell_type": "code",
      "metadata": {
        "colab": {
          "base_uri": "https://localhost:8080/",
          "height": 282
        },
        "id": "U3qO9X-ZIOLK",
        "outputId": "6a2e5e93-328a-4d7f-d8a6-99c19e5df192"
      },
      "source": [
        "epoch_size = [x for x in range(epochs_num)]\n",
        "plt.plot(epoch_size, cost_list_l05_e20_b2)"
      ],
      "execution_count": 42,
      "outputs": [
        {
          "output_type": "execute_result",
          "data": {
            "text/plain": [
              "[<matplotlib.lines.Line2D at 0x7f9d7c778510>]"
            ]
          },
          "metadata": {},
          "execution_count": 42
        },
        {
          "output_type": "display_data",
          "data": {
            "image/png": "[encoded data removed]",
            "text/plain": [
              "<Figure size 432x288 with 1 Axes>"
            ]
          },
          "metadata": {
            "needs_background": "light"
          }
        }
      ]
    },
    {
      "cell_type": "code",
      "metadata": {
        "colab": {
          "base_uri": "https://localhost:8080/",
          "height": 282
        },
        "id": "BZtjpNh6Iys6",
        "outputId": "bf925f22-521f-415f-c42a-99f2a82549f4"
      },
      "source": [
        "epoch_size = [x for x in range(epochs_num)]\n",
        "plt.plot(epoch_size, accuracy_list_l05_e20_b2)"
      ],
      "execution_count": 43,
      "outputs": [
        {
          "output_type": "execute_result",
          "data": {
            "text/plain": [
              "[<matplotlib.lines.Line2D at 0x7f9d7c6d5fd0>]"
            ]
          },
          "metadata": {},
          "execution_count": 43
        },
        {
          "output_type": "display_data",
          "data": {
            "image/png": "[encoded data removed]",
            "text/plain": [
              "<Figure size 432x288 with 1 Axes>"
            ]
          },
          "metadata": {
            "needs_background": "light"
          }
        }
      ]
    },
    {
      "cell_type": "markdown",
      "metadata": {
        "id": "8yMZPlX1KNZS"
      },
      "source": [
        "# improving gradinet decent\n",
        "we know that there is a probability of the search progress bounce around the minimum and that may lead the search progress to go uphill sometimes instead of going downhill and that may make the progress slower and take longer.\n",
        "as you can see the cost reduction is faster than the previous approach.\n",
        "what is done here is using the history of gradient for using the new one. as you can see in the formula there is a parameter named momentom which causes that only 0.25 (in this example, but it could be a number from 0 to 1) of the gradient affects and the other 0.75 is the effect of the history of gradient."
      ]
    },
    {
      "cell_type": "code",
      "metadata": {
        "id": "M4_R46pfNOhR"
      },
      "source": [
        "del W1\n",
        "del W2\n",
        "del W3\n",
        "del b1\n",
        "del b2\n",
        "del b3\n",
        "W1 = np.random.normal(0, 1.0, [150, 102])\n",
        "W2 = np.random.normal(0, 1.0, [60, 150])\n",
        "W3 = np.random.normal(0, 1.0, [4, 60])\n",
        "b1 = np.zeros([150,1])\n",
        "b2 = np.zeros([60,1])\n",
        "b3 = np.zeros([4,1])"
      ],
      "execution_count": 69,
      "outputs": []
    },
    {
      "cell_type": "code",
      "metadata": {
        "id": "CHuofy_iI4BC"
      },
      "source": [
        "def sigmoid(x) :\n",
        "  return 1/(1 + np.exp(-x))\n",
        "\n",
        "learning_rate = 1\n",
        "epochs_num = 20\n",
        "batch_size = 10\n",
        "cost_list = []\n",
        "accuracy_list = []\n",
        "momentom = 0.75\n",
        "VdW1 = np.zeros([150, 102])\n",
        "VdW2 = np.zeros([60, 150])\n",
        "VdW3 = np.zeros([4, 60])\n",
        "Vdb1 = np.zeros([150, 1])\n",
        "Vdb2 = np.zeros([60, 1])\n",
        "Vdb3 = np.zeros([4, 1])\n",
        "for epoch in range(0, epochs_num) :\n",
        "  np.random.shuffle(train_set)\n",
        "  batches = np.array_split(train_set, len(train_set)//batch_size)\n",
        "  cost = 0\n",
        "  accuracy = 0\n",
        "  for batch in batches :\n",
        "    W1_grad = np.zeros([150, 102])\n",
        "    W2_grad = np.zeros([60, 150])\n",
        "    W3_grad = np.zeros([4, 60])\n",
        "    b1_grad = np.zeros([150, 1])\n",
        "    b2_grad = np.zeros([60, 1])\n",
        "    b3_grad = np.zeros([4, 1])\n",
        "    for sample, label in batch :\n",
        "      a1 = sigmoid(W1 @ sample + b1)\n",
        "      a2 = sigmoid(W2 @ a1 + b2)\n",
        "      a3 = sigmoid(W3 @ a2 + b3)\n",
        "      cost += np.sum(np.power((a3-label),2))\n",
        "      if (np.argmax(a3) == np.argmax(label)) :\n",
        "        accuracy += 1\n",
        "\n",
        "      W3_grad += (2 * (a3 - label) * (a3 * (1 - a3))) @ np.transpose(a2)   \n",
        "\n",
        "      b3_grad += 2 * (a3 - label) * (a3 * (1 - a3))\n",
        "      \n",
        "      a2_grad = np.zeros([W3_grad.shape[1], 1])\n",
        "      a2_grad = np.transpose(W3) @ (2 * (a3 - label) * (a3 * (1 - a3)))\n",
        "\n",
        "      W2_grad += (a2_grad * (a2 * (1 - a2))) @ np.transpose(a1)\n",
        "\n",
        "      b2_grad += a2_grad * (a2 * (1 - a2))\n",
        "                    \n",
        "      a1_grad = np.zeros([W2_grad.shape[1], 1])\n",
        "      a1_grad += np.transpose(W2) @ (a2_grad * (a2 * (1 - a2)))\n",
        "\n",
        "      W1_grad += (a1_grad * (a1 * (1 - a1))) @ np.transpose(sample)\n",
        "\n",
        "      b1_grad += a1_grad * (a1 * (1 - a1))\n",
        "        \n",
        "    VdW3 = VdW3 * momentom + (1 - momentom) * (W3_grad / batch_size)\n",
        "    W3 = W3 - (learning_rate * VdW3)\n",
        "    VdW2 = VdW2 * momentom + (1 - momentom) * (W2_grad / batch_size)\n",
        "    W2 = W2 - (learning_rate * VdW2)\n",
        "    VdW1= VdW1 * momentom + (1 - momentom) * (W1_grad / batch_size)\n",
        "    W1 = W1 - (learning_rate * VdW1)\n",
        "    \n",
        "    Vdb3 = Vdb3 * momentom + (1 - momentom) * (b3_grad / batch_size)  \n",
        "    b3 = b3 - (learning_rate * Vdb3)\n",
        "    Vdb2 = Vdb2 * momentom + (1 - momentom) * (b2_grad / batch_size)\n",
        "    b2 = b2 - (learning_rate * Vdb2)\n",
        "    Vdb1= Vdb1 * momentom + (1 - momentom) * (b1_grad / batch_size)\n",
        "    b1 = b1 - (learning_rate * Vdb1)\n",
        "\n",
        "  cost_list.append(cost / len(train_set))\n",
        "  accuracy_list.append(accuracy / len(train_set))"
      ],
      "execution_count": 70,
      "outputs": []
    },
    {
      "cell_type": "code",
      "metadata": {
        "colab": {
          "base_uri": "https://localhost:8080/",
          "height": 282
        },
        "id": "3-D0s9L9NSIp",
        "outputId": "4d03ad4e-af72-480e-a583-b2db06b52c8a"
      },
      "source": [
        "epoch_size = [x for x in range(epochs_num)]\n",
        "plt.plot(epoch_size, cost_list)"
      ],
      "execution_count": 71,
      "outputs": [
        {
          "output_type": "execute_result",
          "data": {
            "text/plain": [
              "[<matplotlib.lines.Line2D at 0x7f9d77a9b710>]"
            ]
          },
          "metadata": {},
          "execution_count": 71
        },
        {
          "output_type": "display_data",
          "data": {
            "image/png": "[encoded data removed]",
            "text/plain": [
              "<Figure size 432x288 with 1 Axes>"
            ]
          },
          "metadata": {
            "needs_background": "light"
          }
        }
      ]
    },
    {
      "cell_type": "code",
      "metadata": {
        "colab": {
          "base_uri": "https://localhost:8080/",
          "height": 282
        },
        "id": "NEbT6f6hNSfQ",
        "outputId": "0f29df6b-1820-49c9-c565-2fce91204aff"
      },
      "source": [
        "epoch_size = [x for x in range(epochs_num)]\n",
        "plt.plot(epoch_size, accuracy_list)"
      ],
      "execution_count": 72,
      "outputs": [
        {
          "output_type": "execute_result",
          "data": {
            "text/plain": [
              "[<matplotlib.lines.Line2D at 0x7f9d77a1be10>]"
            ]
          },
          "metadata": {},
          "execution_count": 72
        },
        {
          "output_type": "display_data",
          "data": {
            "image/png": "[encoded data removed]",
            "text/plain": [
              "<Figure size 432x288 with 1 Axes>"
            ]
          },
          "metadata": {
            "needs_background": "light"
          }
        }
      ]
    },
    {
      "cell_type": "markdown",
      "metadata": {
        "id": "gRAe9btRHD_z"
      },
      "source": [
        "# adding new dataset\n"
      ]
    },
    {
      "cell_type": "markdown",
      "metadata": {
        "id": "_8Ey0u69HbOa"
      },
      "source": [
        "###Feature_Extraction code for Training data"
      ]
    },
    {
      "cell_type": "markdown",
      "metadata": {
        "id": "bYF0IpQOHemB"
      },
      "source": [
        "import numpy\n",
        "import skimage.io, skimage.color, skimage.feature\n",
        "import os\n",
        "import pickle\n",
        "\n",
        "fruits = [\"apple\", \"lemon\", \"mango\", \"raspberry\", \"Dates\", \"Banana\"]\n",
        "dataset_features = numpy.zeros(shape=(2942, 360))\n",
        "outputs = numpy.zeros(shape=2942)\n",
        "\n",
        "idx = 0\n",
        "class_label = 0\n",
        "for fruit_dir in fruits:\n",
        "    curr_dir = os.path.join(os.path.sep + \"Datasets/Fruits-360/Train\", fruit_dir)\n",
        "    all_imgs = os.listdir(os.getcwd()+curr_dir)\n",
        "    for img_file in all_imgs:\n",
        "        if img_file.endswith(\".jpg\"): # Ensures reading only JPG files.\n",
        "            fruit_data = skimage.io.imread(fname=os.path.sep.join([os.getcwd(), curr_dir, img_file]), as_gray=False)\n",
        "            fruit_data_hsv = skimage.color.rgb2hsv(rgb=fruit_data)\n",
        "            hist = numpy.histogram(a=fruit_data_hsv[:, :, 0], bins=360)\n",
        "            dataset_features[idx, :] = hist[0]\n",
        "            outputs[idx] = class_label\n",
        "            idx = idx + 1\n",
        "    class_label = class_label + 1\n",
        "\n",
        "with open(\"Datasets/train_set_features_new.pkl\", \"wb\") as f:\n",
        "    pickle.dump(dataset_features, f)\n",
        "\n",
        "with open(\"Datasets/train_set_labels_new.pkl\", \"wb\") as f:\n",
        "    pickle.dump(outputs, f)\n"
      ]
    },
    {
      "cell_type": "markdown",
      "metadata": {
        "id": "Df9yE3TzHncZ"
      },
      "source": [
        "###Feature_Extraction code for Testing data"
      ]
    },
    {
      "cell_type": "markdown",
      "metadata": {
        "id": "8S4XGQflHo90"
      },
      "source": [
        "import numpy\n",
        "import skimage.io, skimage.color, skimage.feature\n",
        "import os\n",
        "import pickle\n",
        "\n",
        "fruits = [\"apple\", \"lemon\", \"mango\", \"raspberry\", \"Dates\", \"Banana\"]\n",
        "dataset_features = numpy.zeros(shape=(994, 360))\n",
        "outputs = numpy.zeros(shape=994)\n",
        "\n",
        "idx = 0\n",
        "class_label = 0\n",
        "for fruit_dir in fruits:\n",
        "    curr_dir = os.path.join(os.path.sep + \"Datasets/Fruits-360/Test\", fruit_dir)\n",
        "    all_imgs = os.listdir(os.getcwd()+curr_dir)\n",
        "    for img_file in all_imgs:\n",
        "        if img_file.endswith(\".jpg\"): # Ensures reading only JPG files.\n",
        "            fruit_data = skimage.io.imread(fname=os.path.sep.join([os.getcwd(), curr_dir , img_file]), as_gray=False)\n",
        "            fruit_data_hsv = skimage.color.rgb2hsv(rgb=fruit_data)\n",
        "            hist = numpy.histogram(a=fruit_data_hsv[:, :, 0], bins=360)\n",
        "            dataset_features[idx, :] = hist[0]\n",
        "            outputs[idx] = class_label\n",
        "            idx = idx + 1\n",
        "    class_label = class_label + 1\n",
        "\n",
        "with open(\"Datasets/test_set_features_new.pkl\", \"wb\") as f:\n",
        "    pickle.dump(dataset_features, f)\n",
        "\n",
        "with open(\"Datasets/test_set_labels_new.pkl\", \"wb\") as f:\n",
        "    pickle.dump(outputs, f)\n"
      ]
    },
    {
      "cell_type": "code",
      "metadata": {
        "colab": {
          "base_uri": "https://localhost:8080/",
          "height": 0
        },
        "id": "X_5SO5xGHMj6",
        "outputId": "ba52383d-cc3c-434a-ee74-1b084b01fcc0"
      },
      "source": [
        "\n",
        "# loading training set features\n",
        "f = open(\"Datasets/train_set_features_new.pkl\", \"rb\")\n",
        "train_set_features2 = pickle.load(f)\n",
        "f.close()\n",
        "\n",
        "# reducing feature vector length \n",
        "features_STDs = np.std(a=train_set_features2, axis=0)\n",
        "train_set_features = train_set_features2[:, features_STDs > 52.1]\n",
        "\n",
        "# changing the range of data between 0 and 1\n",
        "train_set_features = np.divide(train_set_features, train_set_features.max())\n",
        "\n",
        "# loading training set labels\n",
        "f = open(\"Datasets/train_set_labels_new.pkl\", \"rb\")\n",
        "train_set_labels = pickle.load(f)\n",
        "f.close()\n",
        "\n",
        "# ------------\n",
        "# loading test set features\n",
        "f = open(\"Datasets/test_set_features_new.pkl\", \"rb\")\n",
        "test_set_features2 = pickle.load(f)\n",
        "f.close()\n",
        "\n",
        "# reducing feature vector length \n",
        "features_STDs = np.std(a=test_set_features2, axis=0)\n",
        "test_set_features = test_set_features2[:, features_STDs > 48.5]\n",
        "\n",
        "# changing the range of data between 0 and 1\n",
        "test_set_features = np.divide(test_set_features, test_set_features.max())\n",
        "\n",
        "# loading test set labels\n",
        "f = open(\"Datasets/test_set_labels_new.pkl\", \"rb\")\n",
        "test_set_labels = pickle.load(f)\n",
        "f.close()\n",
        "\n",
        "# ------------\n",
        "# preparing our training and test sets - joining datasets and lables\n",
        "train_set_new = []\n",
        "test_set_new = []\n",
        "\n",
        "for i in range(len(train_set_features)):\n",
        "    label = np.array([0, 0, 0, 0, 0, 0])\n",
        "    label[int(train_set_labels[i])] = 1\n",
        "    label = label.reshape(6,1)\n",
        "    train_set_new.append((train_set_features[i].reshape(102, 1), label))\n",
        "    \n",
        "\n",
        "for i in range(len(test_set_features)):\n",
        "    label = np.array([0, 0, 0, 0, 0, 0])\n",
        "    label[int(test_set_labels[i])] = 1\n",
        "    label = label.reshape(6,1)\n",
        "    test_set_new.append((test_set_features[i].reshape(102, 1), label))\n",
        "\n",
        "# shuffle\n",
        "random.shuffle(train_set_new)\n",
        "random.shuffle(test_set_new)\n",
        "\n",
        "# print size\n",
        "print(len(train_set_new)) #1962\n",
        "print(len(test_set_new)) #662"
      ],
      "execution_count": 73,
      "outputs": [
        {
          "output_type": "stream",
          "name": "stdout",
          "text": [
            "2942\n",
            "994\n"
          ]
        }
      ]
    },
    {
      "cell_type": "code",
      "metadata": {
        "colab": {
          "base_uri": "https://localhost:8080/",
          "height": 0
        },
        "id": "FTVdB0KKH_e5",
        "outputId": "73540f68-d404-46ce-b5ed-2eee65b9c090"
      },
      "source": [
        "train_set_new = np.array(train_set_new)\n",
        "test_set_new = np.array(test_set_new)"
      ],
      "execution_count": 74,
      "outputs": [
        {
          "output_type": "stream",
          "name": "stderr",
          "text": [
            "/usr/local/lib/python3.7/dist-packages/ipykernel_launcher.py:1: VisibleDeprecationWarning: Creating an ndarray from ragged nested sequences (which is a list-or-tuple of lists-or-tuples-or ndarrays with different lengths or shapes) is deprecated. If you meant to do this, you must specify 'dtype=object' when creating the ndarray\n",
            "  \"\"\"Entry point for launching an IPython kernel.\n",
            "/usr/local/lib/python3.7/dist-packages/ipykernel_launcher.py:2: VisibleDeprecationWarning: Creating an ndarray from ragged nested sequences (which is a list-or-tuple of lists-or-tuples-or ndarrays with different lengths or shapes) is deprecated. If you meant to do this, you must specify 'dtype=object' when creating the ndarray\n",
            "  \n"
          ]
        }
      ]
    },
    {
      "cell_type": "code",
      "metadata": {
        "id": "ALlmcMN0ILO1"
      },
      "source": [
        "del W1\n",
        "del W2\n",
        "del W3\n",
        "del b1\n",
        "del b2\n",
        "del b3\n",
        "W1 = np.random.normal(0, 1.0, [150, 102])\n",
        "W2 = np.random.normal(0, 1.0, [60, 150])\n",
        "W3 = np.random.normal(0, 1.0, [6, 60])\n",
        "b1 = np.zeros([150,1])\n",
        "b2 = np.zeros([60,1])\n",
        "b3 = np.zeros([6,1])"
      ],
      "execution_count": 75,
      "outputs": []
    },
    {
      "cell_type": "code",
      "metadata": {
        "id": "Jc3hN_fHIED4"
      },
      "source": [
        "def sigmoid(x) :\n",
        "  return 1/(1 + np.exp(-x))\n",
        "\n",
        "learning_rate = 1\n",
        "epochs_num = 20\n",
        "batch_size = 10\n",
        "cost_list = []\n",
        "accuracy_list = []\n",
        "momentom = 0.75\n",
        "VdW1 = np.zeros([150, 102])\n",
        "VdW2 = np.zeros([60, 150])\n",
        "VdW3 = np.zeros([6, 60])\n",
        "Vdb1 = np.zeros([150, 1])\n",
        "Vdb2 = np.zeros([60, 1])\n",
        "Vdb3 = np.zeros([6, 1])\n",
        "for epoch in range(0, epochs_num) :\n",
        "  np.random.shuffle(train_set_new)\n",
        "  batches = np.array_split(train_set_new, len(train_set_new)//batch_size)\n",
        "  cost = 0\n",
        "  accuracy = 0\n",
        "  for batch in batches :\n",
        "    W1_grad = np.zeros([150, 102])\n",
        "    W2_grad = np.zeros([60, 150])\n",
        "    W3_grad = np.zeros([6, 60])\n",
        "    b1_grad = np.zeros([150, 1])\n",
        "    b2_grad = np.zeros([60, 1])\n",
        "    b3_grad = np.zeros([6, 1])\n",
        "    for sample, label in batch :\n",
        "      a1 = sigmoid(W1 @ sample + b1)\n",
        "      a2 = sigmoid(W2 @ a1 + b2)\n",
        "      a3 = sigmoid(W3 @ a2 + b3)\n",
        "      cost += np.sum(np.power((a3-label),2))\n",
        "      if (np.argmax(a3) == np.argmax(label)) :\n",
        "        accuracy += 1\n",
        "\n",
        "      W3_grad += (2 * (a3 - label) * (a3 * (1 - a3))) @ np.transpose(a2)   \n",
        "\n",
        "      b3_grad += 2 * (a3 - label) * (a3 * (1 - a3))\n",
        "      \n",
        "      a2_grad = np.zeros([W3_grad.shape[1], 1])\n",
        "      a2_grad = np.transpose(W3) @ (2 * (a3 - label) * (a3 * (1 - a3)))\n",
        "\n",
        "      W2_grad += (a2_grad * (a2 * (1 - a2))) @ np.transpose(a1)\n",
        "\n",
        "      b2_grad += a2_grad * (a2 * (1 - a2))\n",
        "                    \n",
        "      a1_grad = np.zeros([W2_grad.shape[1], 1])\n",
        "      a1_grad += np.transpose(W2) @ (a2_grad * (a2 * (1 - a2)))\n",
        "\n",
        "      W1_grad += (a1_grad * (a1 * (1 - a1))) @ np.transpose(sample)\n",
        "\n",
        "      b1_grad += a1_grad * (a1 * (1 - a1))\n",
        "        \n",
        "    VdW3 = VdW3 * momentom + (1 - momentom) * (W3_grad / batch_size)\n",
        "    W3 = W3 - (learning_rate * VdW3)\n",
        "    VdW2 = VdW2 * momentom + (1 - momentom) * (W2_grad / batch_size)\n",
        "    W2 = W2 - (learning_rate * VdW2)\n",
        "    VdW1= VdW1 * momentom + (1 - momentom) * (W1_grad / batch_size)\n",
        "    W1 = W1 - (learning_rate * VdW1)\n",
        "    \n",
        "    Vdb3 = Vdb3 * momentom + (1 - momentom) * (b3_grad / batch_size)  \n",
        "    b3 = b3 - (learning_rate * Vdb3)\n",
        "    Vdb2 = Vdb2 * momentom + (1 - momentom) * (b2_grad / batch_size)\n",
        "    b2 = b2 - (learning_rate * Vdb2)\n",
        "    Vdb1= Vdb1 * momentom + (1 - momentom) * (b1_grad / batch_size)\n",
        "    b1 = b1 - (learning_rate * Vdb1)\n",
        "\n",
        "  cost_list.append(cost / len(train_set_new))\n",
        "  accuracy_list.append(accuracy / len(train_set_new))"
      ],
      "execution_count": 76,
      "outputs": []
    },
    {
      "cell_type": "code",
      "metadata": {
        "colab": {
          "base_uri": "https://localhost:8080/",
          "height": 0
        },
        "id": "hRIa1ot2Ieo0",
        "outputId": "c9948982-30ee-445f-c597-71e77db9f886"
      },
      "source": [
        "a3"
      ],
      "execution_count": 77,
      "outputs": [
        {
          "output_type": "execute_result",
          "data": {
            "text/plain": [
              "array([[2.41087589e-02],\n",
              "       [2.56747719e-04],\n",
              "       [4.31963290e-02],\n",
              "       [4.20655584e-06],\n",
              "       [8.51123954e-01],\n",
              "       [1.86418226e-05]])"
            ]
          },
          "metadata": {},
          "execution_count": 77
        }
      ]
    },
    {
      "cell_type": "markdown",
      "metadata": {
        "id": "do5Y3fTfKzbE"
      },
      "source": [
        "# changing the last layer activation function to softmax"
      ]
    },
    {
      "cell_type": "code",
      "metadata": {
        "id": "qWjjOfSgKy8H"
      },
      "source": [
        "del W1\n",
        "del W2\n",
        "del W3\n",
        "del b1\n",
        "del b2\n",
        "del b3\n",
        "W1 = np.random.normal(0, 1.0, [150, 102])\n",
        "W2 = np.random.normal(0, 1.0, [60, 150])\n",
        "W3 = np.random.normal(0, 1.0, [6, 60])\n",
        "b1 = np.zeros([150,1])\n",
        "b2 = np.zeros([60,1])\n",
        "b3 = np.zeros([6,1])"
      ],
      "execution_count": 78,
      "outputs": []
    },
    {
      "cell_type": "code",
      "metadata": {
        "id": "e5YBV4VxImqj"
      },
      "source": [
        "def softmax(vector):\n",
        "  e = np.exp(vector)\n",
        "  return e / e.sum()\n",
        "\n",
        "def sigmoid(x) :\n",
        "  return 1/(1 + np.exp(-x))\n",
        "\n",
        "learning_rate = 1\n",
        "epochs_num = 20\n",
        "batch_size = 10\n",
        "cost_list = []\n",
        "accuracy_list = []\n",
        "momentom = 0.75\n",
        "VdW1 = np.zeros([150, 102])\n",
        "VdW2 = np.zeros([60, 150])\n",
        "VdW3 = np.zeros([6, 60])\n",
        "Vdb1 = np.zeros([150, 1])\n",
        "Vdb2 = np.zeros([60, 1])\n",
        "Vdb3 = np.zeros([6, 1])\n",
        "for epoch in range(0, epochs_num) :\n",
        "  np.random.shuffle(train_set_new)\n",
        "  batches = np.array_split(train_set_new, len(train_set_new)//batch_size)\n",
        "  cost = 0\n",
        "  accuracy = 0\n",
        "  for batch in batches :\n",
        "    W1_grad = np.zeros([150, 102])\n",
        "    W2_grad = np.zeros([60, 150])\n",
        "    W3_grad = np.zeros([6, 60])\n",
        "    b1_grad = np.zeros([150, 1])\n",
        "    b2_grad = np.zeros([60, 1])\n",
        "    b3_grad = np.zeros([6, 1])\n",
        "    for sample, label in batch :\n",
        "      a1 = sigmoid(W1 @ sample + b1)\n",
        "      a2 = sigmoid(W2 @ a1 + b2)\n",
        "      a3 = softmax(W3 @ a2 + b3)\n",
        "      cost += np.sum(np.power((a3-label),2))\n",
        "      if (np.argmax(a3) == np.argmax(label)) :\n",
        "        accuracy += 1\n",
        "\n",
        "      W3_grad += (2 * (a3 - label) * (a3 * (1 - a3))) @ np.transpose(a2)   \n",
        "\n",
        "      b3_grad += 2 * (a3 - label) * (a3 * (1 - a3))\n",
        "      \n",
        "      a2_grad = np.zeros([W3_grad.shape[1], 1])\n",
        "      a2_grad = np.transpose(W3) @ (2 * (a3 - label) * (a3 * (1 - a3)))\n",
        "\n",
        "      W2_grad += (a2_grad * (a2 * (1 - a2))) @ np.transpose(a1)\n",
        "\n",
        "      b2_grad += a2_grad * (a2 * (1 - a2))\n",
        "                    \n",
        "      a1_grad = np.zeros([W2_grad.shape[1], 1])\n",
        "      a1_grad += np.transpose(W2) @ (a2_grad * (a2 * (1 - a2)))\n",
        "\n",
        "      W1_grad += (a1_grad * (a1 * (1 - a1))) @ np.transpose(sample)\n",
        "\n",
        "      b1_grad += a1_grad * (a1 * (1 - a1))\n",
        "        \n",
        "    VdW3 = VdW3 * momentom + (1 - momentom) * (W3_grad / batch_size)\n",
        "    W3 = W3 - (learning_rate * VdW3)\n",
        "    VdW2 = VdW2 * momentom + (1 - momentom) * (W2_grad / batch_size)\n",
        "    W2 = W2 - (learning_rate * VdW2)\n",
        "    VdW1= VdW1 * momentom + (1 - momentom) * (W1_grad / batch_size)\n",
        "    W1 = W1 - (learning_rate * VdW1)\n",
        "    \n",
        "    Vdb3 = Vdb3 * momentom + (1 - momentom) * (b3_grad / batch_size)  \n",
        "    b3 = b3 - (learning_rate * Vdb3)\n",
        "    Vdb2 = Vdb2 * momentom + (1 - momentom) * (b2_grad / batch_size)\n",
        "    b2 = b2 - (learning_rate * Vdb2)\n",
        "    Vdb1= Vdb1 * momentom + (1 - momentom) * (b1_grad / batch_size)\n",
        "    b1 = b1 - (learning_rate * Vdb1)\n",
        "\n",
        "  cost_list.append(cost / len(train_set_new))\n",
        "  accuracy_list.append(accuracy / len(train_set_new))"
      ],
      "execution_count": 79,
      "outputs": []
    },
    {
      "cell_type": "code",
      "metadata": {
        "colab": {
          "base_uri": "https://localhost:8080/",
          "height": 282
        },
        "id": "cP-5Jq4FK36e",
        "outputId": "2dbf1bcd-0621-4058-a441-ec9cde09e046"
      },
      "source": [
        "epoch_size = [x for x in range(epochs_num)]\n",
        "plt.plot(epoch_size, cost_list)"
      ],
      "execution_count": 80,
      "outputs": [
        {
          "output_type": "execute_result",
          "data": {
            "text/plain": [
              "[<matplotlib.lines.Line2D at 0x7f9d7799aad0>]"
            ]
          },
          "metadata": {},
          "execution_count": 80
        },
        {
          "output_type": "display_data",
          "data": {
            "image/png": "[encoded data removed]",
            "text/plain": [
              "<Figure size 432x288 with 1 Axes>"
            ]
          },
          "metadata": {
            "needs_background": "light"
          }
        }
      ]
    },
    {
      "cell_type": "code",
      "metadata": {
        "colab": {
          "base_uri": "https://localhost:8080/",
          "height": 282
        },
        "id": "j_wayhokLBnH",
        "outputId": "89c89b72-09ab-4a21-da7f-69cc5014721b"
      },
      "source": [
        "epoch_size = [x for x in range(epochs_num)]\n",
        "plt.plot(epoch_size, accuracy_list)"
      ],
      "execution_count": 81,
      "outputs": [
        {
          "output_type": "execute_result",
          "data": {
            "text/plain": [
              "[<matplotlib.lines.Line2D at 0x7f9d778077d0>]"
            ]
          },
          "metadata": {},
          "execution_count": 81
        },
        {
          "output_type": "display_data",
          "data": {
            "image/png": "[encoded data removed]",
            "text/plain": [
              "<Figure size 432x288 with 1 Axes>"
            ]
          },
          "metadata": {
            "needs_background": "light"
          }
        }
      ]
    },
    {
      "cell_type": "code",
      "metadata": {
        "colab": {
          "base_uri": "https://localhost:8080/",
          "height": 0
        },
        "id": "r-JwGPtmLEOK",
        "outputId": "c4ffa495-353c-4f81-a8c8-e774b8c134c2"
      },
      "source": [
        "a3"
      ],
      "execution_count": 82,
      "outputs": [
        {
          "output_type": "execute_result",
          "data": {
            "text/plain": [
              "array([[5.21671004e-03],\n",
              "       [5.19964434e-03],\n",
              "       [3.69084825e-02],\n",
              "       [3.29026469e-02],\n",
              "       [9.19771982e-01],\n",
              "       [5.34395843e-07]])"
            ]
          },
          "metadata": {},
          "execution_count": 82
        }
      ]
    },
    {
      "cell_type": "code",
      "metadata": {
        "id": "Bue3EuIBLFJo"
      },
      "source": [
        ""
      ],
      "execution_count": null,
      "outputs": []
    }
  ]
}