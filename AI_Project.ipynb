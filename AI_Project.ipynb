{
  "nbformat": 4,
  "nbformat_minor": 0,
  "metadata": {
    "colab": {
      "name": "AI_Project.ipynb",
      "provenance": [],
      "collapsed_sections": [],
      "toc_visible": true,
      "authorship_tag": "ABX9TyMZWow67N45pXuKlq63lFoY",
      "include_colab_link": true
    },
    "kernelspec": {
      "name": "python3",
      "display_name": "Python 3"
    },
    "language_info": {
      "name": "python"
    }
  },
  "cells": [
    {
      "cell_type": "markdown",
      "metadata": {
        "id": "view-in-github",
        "colab_type": "text"
      },
      "source": [
        "<a href=\"https://colab.research.google.com/github/artaasadi/NeuralNetwork_proj/blob/main/AI_Project.ipynb\" target=\"_parent\"><img src=\"https://colab.research.google.com/assets/colab-badge.svg\" alt=\"Open In Colab\"/></a>"
      ]
    },
    {
      "cell_type": "code",
      "metadata": {
        "id": "Cqh5Q1UoecNW"
      },
      "source": [
        "import numpy as np\n",
        "import pandas as pd\n",
        "import pickle\n",
        "import random\n",
        "import matplotlib.pyplot as plt"
      ],
      "execution_count": 1,
      "outputs": []
    },
    {
      "cell_type": "markdown",
      "metadata": {
        "id": "lwGn4nM9CLaE"
      },
      "source": [
        "# Loading Data\n",
        "after importing packages the needed data are gotten from google drive"
      ]
    },
    {
      "cell_type": "code",
      "metadata": {
        "colab": {
          "base_uri": "https://localhost:8080/"
        },
        "id": "MxRg6QzafeVE",
        "outputId": "48d305bf-36e2-4d59-8961-8a0c566b52a9"
      },
      "source": [
        "from google.colab import drive\n",
        "drive.mount('/content/drive')"
      ],
      "execution_count": 2,
      "outputs": [
        {
          "output_type": "stream",
          "name": "stdout",
          "text": [
            "Drive already mounted at /content/drive; to attempt to forcibly remount, call drive.mount(\"/content/drive\", force_remount=True).\n"
          ]
        }
      ]
    },
    {
      "cell_type": "code",
      "metadata": {
        "colab": {
          "base_uri": "https://localhost:8080/"
        },
        "id": "37c3zN8Vg4LK",
        "outputId": "50fcbe91-52f2-43e1-caec-8aaf94cd861d"
      },
      "source": [
        "cd drive/'My Drive'/'Colab Notebooks'/AI_Project_Files"
      ],
      "execution_count": 3,
      "outputs": [
        {
          "output_type": "stream",
          "name": "stdout",
          "text": [
            "/content/drive/My Drive/Colab Notebooks/AI_Project_Files\n"
          ]
        }
      ]
    },
    {
      "cell_type": "markdown",
      "metadata": {
        "id": "GsjGj0Y5ChSO"
      },
      "source": [
        "getting data from pkl file and reshaping them to 102\n",
        "then shuffling them"
      ]
    },
    {
      "cell_type": "code",
      "metadata": {
        "colab": {
          "base_uri": "https://localhost:8080/"
        },
        "id": "40e-Q9pKh285",
        "outputId": "0a2fab84-f78a-41b9-fcbe-cdd4a31c2454"
      },
      "source": [
        "# loading training set features\n",
        "f = open(\"Datasets/train_set_features.pkl\", \"rb\")\n",
        "train_set_features2 = pickle.load(f)\n",
        "f.close()\n",
        "\n",
        "# reducing feature vector length \n",
        "features_STDs = np.std(a=train_set_features2, axis=0)\n",
        "train_set_features = train_set_features2[:, features_STDs > 52.3]\n",
        "\n",
        "# changing the range of data between 0 and 1\n",
        "train_set_features = np.divide(train_set_features, train_set_features.max())\n",
        "\n",
        "# loading training set labels\n",
        "f = open(\"Datasets/train_set_labels.pkl\", \"rb\")\n",
        "train_set_labels = pickle.load(f)\n",
        "f.close()\n",
        "\n",
        "# ------------\n",
        "# loading test set features\n",
        "f = open(\"Datasets/test_set_features.pkl\", \"rb\")\n",
        "test_set_features2 = pickle.load(f)\n",
        "f.close()\n",
        "\n",
        "# reducing feature vector length \n",
        "features_STDs = np.std(a=test_set_features2, axis=0)\n",
        "test_set_features = test_set_features2[:, features_STDs > 48]\n",
        "\n",
        "# changing the range of data between 0 and 1\n",
        "test_set_features = np.divide(test_set_features, test_set_features.max())\n",
        "\n",
        "# loading test set labels\n",
        "f = open(\"Datasets/test_set_labels.pkl\", \"rb\")\n",
        "test_set_labels = pickle.load(f)\n",
        "f.close()\n",
        "\n",
        "# ------------\n",
        "# preparing our training and test sets - joining datasets and lables\n",
        "train_set = []\n",
        "test_set = []\n",
        "\n",
        "for i in range(len(train_set_features)):\n",
        "    label = np.array([0,0,0,0])\n",
        "    label[int(train_set_labels[i])] = 1\n",
        "    label = label.reshape(4,1)\n",
        "    train_set.append((train_set_features[i].reshape(102,1), label))\n",
        "    \n",
        "\n",
        "for i in range(len(test_set_features)):\n",
        "    label = np.array([0,0,0,0])\n",
        "    label[int(test_set_labels[i])] = 1\n",
        "    label = label.reshape(4,1)\n",
        "    test_set.append((test_set_features[i].reshape(102,1), label))\n",
        "\n",
        "# shuffle\n",
        "random.shuffle(train_set)\n",
        "random.shuffle(test_set)\n",
        "\n",
        "# print size\n",
        "print(len(train_set)) #1962\n",
        "print(len(test_set)) #662"
      ],
      "execution_count": 4,
      "outputs": [
        {
          "output_type": "stream",
          "name": "stdout",
          "text": [
            "1962\n",
            "662\n"
          ]
        }
      ]
    },
    {
      "cell_type": "markdown",
      "metadata": {
        "id": "7oyw9apGCu2Y"
      },
      "source": [
        "defining weights by normal distribution and defining biases by zero"
      ]
    },
    {
      "cell_type": "code",
      "metadata": {
        "id": "UNYgAI38h5aH"
      },
      "source": [
        "W1 = np.random.normal(0, 1.0, [150, 102])\n",
        "W2 = np.random.normal(0, 1.0, [60, 150])\n",
        "W3 = np.random.normal(0, 1.0, [4, 60])\n",
        "b1 = np.zeros([150,1])\n",
        "b2 = np.zeros([60,1])\n",
        "b3 = np.zeros([4,1])"
      ],
      "execution_count": 5,
      "outputs": []
    },
    {
      "cell_type": "code",
      "metadata": {
        "colab": {
          "base_uri": "https://localhost:8080/",
          "height": 265
        },
        "id": "LIFZMLIArRnk",
        "outputId": "b4d9e828-9101-4718-baa6-46ea99da1b8c"
      },
      "source": [
        "import matplotlib.pyplot as plt\n",
        "count, bins, ignored = plt.hist(W1[0], 30, density=True)\n",
        "plt.plot(bins, 1/(np.sqrt(2 * np.pi)) *\n",
        "               np.exp( - (bins)**2 / 2 ),\n",
        "         linewidth=2, color='r')\n",
        "plt.show()"
      ],
      "execution_count": 37,
      "outputs": [
        {
          "output_type": "display_data",
          "data": {
            "image/png": "[encoded data removed]",
            "text/plain": [
              "<Figure size 432x288 with 1 Axes>"
            ]
          },
          "metadata": {
            "needs_background": "light"
          }
        }
      ]
    },
    {
      "cell_type": "markdown",
      "metadata": {
        "id": "DzGX5hXsC7Wx"
      },
      "source": [
        "changed lists to np array to work easier"
      ]
    },
    {
      "cell_type": "code",
      "metadata": {
        "colab": {
          "base_uri": "https://localhost:8080/"
        },
        "id": "PgdWlEQwvLBi",
        "outputId": "9c38e320-035c-445e-a879-6416df2ec8a4"
      },
      "source": [
        "train_set200 = np.array(random.sample(train_set, 200))\n",
        "test_set200 = np.array(random.sample(test_set, 200))\n",
        "train_set = np.array(train_set)\n",
        "test_set = np.array(test_set)"
      ],
      "execution_count": 7,
      "outputs": [
        {
          "output_type": "stream",
          "name": "stderr",
          "text": [
            "/usr/local/lib/python3.7/dist-packages/ipykernel_launcher.py:1: VisibleDeprecationWarning: Creating an ndarray from ragged nested sequences (which is a list-or-tuple of lists-or-tuples-or ndarrays with different lengths or shapes) is deprecated. If you meant to do this, you must specify 'dtype=object' when creating the ndarray\n",
            "  \"\"\"Entry point for launching an IPython kernel.\n",
            "/usr/local/lib/python3.7/dist-packages/ipykernel_launcher.py:2: VisibleDeprecationWarning: Creating an ndarray from ragged nested sequences (which is a list-or-tuple of lists-or-tuples-or ndarrays with different lengths or shapes) is deprecated. If you meant to do this, you must specify 'dtype=object' when creating the ndarray\n",
            "  \n",
            "/usr/local/lib/python3.7/dist-packages/ipykernel_launcher.py:3: VisibleDeprecationWarning: Creating an ndarray from ragged nested sequences (which is a list-or-tuple of lists-or-tuples-or ndarrays with different lengths or shapes) is deprecated. If you meant to do this, you must specify 'dtype=object' when creating the ndarray\n",
            "  This is separate from the ipykernel package so we can avoid doing imports until\n",
            "/usr/local/lib/python3.7/dist-packages/ipykernel_launcher.py:4: VisibleDeprecationWarning: Creating an ndarray from ragged nested sequences (which is a list-or-tuple of lists-or-tuples-or ndarrays with different lengths or shapes) is deprecated. If you meant to do this, you must specify 'dtype=object' when creating the ndarray\n",
            "  after removing the cwd from sys.path.\n"
          ]
        }
      ]
    },
    {
      "cell_type": "markdown",
      "metadata": {
        "id": "S4rqS2HIDKRR"
      },
      "source": [
        "# FeedForward\n",
        "while the weights are settled by normal distribution and we have 4 labels the accuracy is usualy near to 0.25"
      ]
    },
    {
      "cell_type": "code",
      "metadata": {
        "colab": {
          "base_uri": "https://localhost:8080/"
        },
        "id": "5pi0iJAqz-sw",
        "outputId": "a6d790aa-cd37-4f4a-942f-e5f58659e56c"
      },
      "source": [
        "def sigmoid(x) :\n",
        "  return 1/(1 + np.exp(-x))\n",
        "\n",
        "counter = 0\n",
        "for sample in train_set200 :\n",
        "  a1 = sigmoid(W1 @ sample[0] + b1)\n",
        "  a2 = sigmoid(W2 @ a1 + b2)\n",
        "  a3 = sigmoid(W3 @ a2 + b3)\n",
        "  if (np.argmax(a3) == np.argmax(sample[1])) :\n",
        "    counter += 1\n",
        "accuracy = (counter/200)\n",
        "print(accuracy)"
      ],
      "execution_count": 8,
      "outputs": [
        {
          "output_type": "stream",
          "name": "stdout",
          "text": [
            "0.175\n"
          ]
        }
      ]
    },
    {
      "cell_type": "markdown",
      "metadata": {
        "id": "k_HM9jpj1mWw"
      },
      "source": [
        "# BackPropagation\n"
      ]
    },
    {
      "cell_type": "code",
      "metadata": {
        "id": "ImpkSVY43Wpj"
      },
      "source": [
        "def sigmoid(x) :\n",
        "  return 1/(1 + np.exp(-x))\n",
        "\n",
        "learning_rate = 1\n",
        "epochs_num = 20\n",
        "batch_size = 10\n",
        "cost_list = []\n",
        "accuracy_list = []\n",
        "for epoch in range(0, epochs_num) :\n",
        "  np.random.shuffle(train_set200)\n",
        "  batches = np.array_split(train_set200, 200//batch_size)\n",
        "  cost = 0\n",
        "  accuracy = 0\n",
        "  for batch in batches :\n",
        "    W1_grad = np.zeros([150, 102])\n",
        "    W2_grad = np.zeros([60, 150])\n",
        "    W3_grad = np.zeros([4, 60])\n",
        "    b1_grad = np.zeros([150, 1])\n",
        "    b2_grad = np.zeros([60, 1])\n",
        "    b3_grad = np.zeros([4, 1])\n",
        "    for sample, label in batch :\n",
        "      a1 = sigmoid(W1 @ sample + b1)\n",
        "      a2 = sigmoid(W2 @ a1 + b2)\n",
        "      a3 = sigmoid(W3 @ a2 + b3)\n",
        "      cost += np.sum(np.power((a3-label),2))\n",
        "      if (np.argmax(a3) == np.argmax(label)) :\n",
        "        accuracy += 1\n",
        "\n",
        "\n",
        "      for j in range(W3_grad.shape[0]):\n",
        "        for k in range(W3_grad.shape[1]):\n",
        "          W3_grad[j, k] += 2 * (a3[j, 0] - label[j, 0]) * a3[j, 0] * (1 - a3[j, 0]) * a2[k, 0]\n",
        "            \n",
        "      for j in range(b3_grad.shape[0]):\n",
        "        b3_grad[j, 0] += 2 * (a3[j, 0] - label[j, 0]) * a3[j, 0] * (1 - a3[j, 0])\n",
        "            \n",
        "\n",
        "      a2_grad = np.zeros((W3_grad.shape[1], 1))\n",
        "      for k in range(W3_grad.shape[1]):\n",
        "        for j in range(W3_grad.shape[0]):\n",
        "          a2_grad[k, 0] += 2 * (a3[j, 0] - label[j, 0]) * a3[j, 0] * (1 - a3[j, 0]) * W3[j, k]\n",
        "            \n",
        "      for k in range(W2_grad.shape[0]):\n",
        "        for m in range(W2_grad.shape[1]):\n",
        "          W2_grad[k, m] += a2_grad[k, 0] * a2[k,0] * (1 - a2[k, 0]) * a1[m, 0]\n",
        "            \n",
        "      for k in range(b2_grad.shape[0]):\n",
        "        b2_grad[k, 0] += a2_grad[k, 0] * a2[k, 0] * (1 - a2[k, 0])\n",
        "                    \n",
        "\n",
        "      a1_grad = np.zeros((W2_grad.shape[1], 1))\n",
        "      for m in range(W2_grad.shape[1]):\n",
        "        for k in range(W2_grad.shape[0]):\n",
        "          a1_grad[m, 0] += a2_grad[k, 0] * a2[k, 0] * (1 - a2[k, 0]) * W2[k, m]\n",
        "            \n",
        "      for m in range(W1_grad.shape[0]):\n",
        "        for v in range(W1_grad.shape[1]):\n",
        "          W1_grad[m, v] += a1_grad[m, 0] * a1[m,0] * (1 - a1[m, 0]) * sample[v, 0]\n",
        "                    \n",
        "      for m in range(b1_grad.shape[0]):\n",
        "        b1_grad[m, 0] += a1_grad[m, 0] * a1[m, 0] * (1 - a1[m, 0])\n",
        "        \n",
        "    W3 = W3 - (learning_rate * (W3_grad / batch_size))\n",
        "    W2 = W2 - (learning_rate * (W2_grad / batch_size))\n",
        "    W1 = W1 - (learning_rate * (W1_grad / batch_size))\n",
        "        \n",
        "    b3 = b3 - (learning_rate * (b3_grad / batch_size))\n",
        "    b2 = b2 - (learning_rate * (b2_grad / batch_size))\n",
        "    b1 = b1 - (learning_rate * (b1_grad / batch_size))\n",
        "  cost_list.append(cost / 200)\n",
        "  accuracy_list.append(accuracy / 200)"
      ],
      "execution_count": 9,
      "outputs": []
    },
    {
      "cell_type": "markdown",
      "metadata": {
        "id": "BBo7PA84L1NC"
      },
      "source": [
        "this will take about 8 minutes for 20 epochs and 200 of the trainset"
      ]
    },
    {
      "cell_type": "code",
      "metadata": {
        "colab": {
          "base_uri": "https://localhost:8080/",
          "height": 609
        },
        "id": "6_kSijplvayS",
        "outputId": "cd401831-978a-4542-c9fd-e51bf16690d2"
      },
      "source": [
        "epoch_size = [x for x in range(epochs_num)]\n",
        "plt.plot(epoch_size, cost_list)\n",
        "cost_list"
      ],
      "execution_count": 10,
      "outputs": [
        {
          "output_type": "execute_result",
          "data": {
            "text/plain": [
              "[1.10232670684065,\n",
              " 0.9654826993755752,\n",
              " 0.8778780199838943,\n",
              " 0.7933508654120861,\n",
              " 0.8806997459514833,\n",
              " 0.7000897411771799,\n",
              " 0.5869163843680466,\n",
              " 0.49408999726415864,\n",
              " 0.4860751361292464,\n",
              " 0.48746805032824886,\n",
              " 0.47961557232183594,\n",
              " 0.4748380140077601,\n",
              " 0.47375928051463584,\n",
              " 0.47459089560701934,\n",
              " 0.43066218646441207,\n",
              " 0.29279620411951407,\n",
              " 0.25842344697598896,\n",
              " 0.20974101300903977,\n",
              " 0.18607886547106134,\n",
              " 0.18265918507642487]"
            ]
          },
          "metadata": {},
          "execution_count": 10
        },
        {
          "output_type": "display_data",
          "data": {
            "image/png": "[encoded data removed]",
            "text/plain": [
              "<Figure size 432x288 with 1 Axes>"
            ]
          },
          "metadata": {
            "needs_background": "light"
          }
        }
      ]
    },
    {
      "cell_type": "code",
      "metadata": {
        "colab": {
          "base_uri": "https://localhost:8080/",
          "height": 609
        },
        "id": "yFXk8e-T2aA-",
        "outputId": "a1a33d62-2513-40c6-837e-8b99773ceeef"
      },
      "source": [
        "epoch_size = [x for x in range(epochs_num)]\n",
        "plt.plot(epoch_size, accuracy_list)\n",
        "accuracy_list"
      ],
      "execution_count": 11,
      "outputs": [
        {
          "output_type": "execute_result",
          "data": {
            "text/plain": [
              "[0.21,\n",
              " 0.245,\n",
              " 0.265,\n",
              " 0.235,\n",
              " 0.34,\n",
              " 0.45,\n",
              " 0.505,\n",
              " 0.53,\n",
              " 0.53,\n",
              " 0.53,\n",
              " 0.53,\n",
              " 0.53,\n",
              " 0.53,\n",
              " 0.53,\n",
              " 0.695,\n",
              " 0.795,\n",
              " 0.8,\n",
              " 0.815,\n",
              " 0.825,\n",
              " 0.825]"
            ]
          },
          "metadata": {},
          "execution_count": 11
        },
        {
          "output_type": "display_data",
          "data": {
            "image/png": "[encoded data removed]",
            "text/plain": [
              "<Figure size 432x288 with 1 Axes>"
            ]
          },
          "metadata": {
            "needs_background": "light"
          }
        }
      ]
    },
    {
      "cell_type": "markdown",
      "metadata": {
        "id": "nuH5YPgF915P"
      },
      "source": [
        "# Vectorization"
      ]
    },
    {
      "cell_type": "markdown",
      "metadata": {
        "id": "8AeuNXOREdUc"
      },
      "source": [
        "reseting the weights and biases so the new approach could be tested"
      ]
    },
    {
      "cell_type": "code",
      "metadata": {
        "id": "KO4IN4peEW91"
      },
      "source": [
        "del W1\n",
        "del W2\n",
        "del W3\n",
        "del b1\n",
        "del b2\n",
        "del b3\n",
        "W1 = np.random.normal(0, 1.0, [150, 102])\n",
        "W2 = np.random.normal(0, 1.0, [60, 150])\n",
        "W3 = np.random.normal(0, 1.0, [4, 60])\n",
        "b1 = np.zeros([150,1])\n",
        "b2 = np.zeros([60,1])\n",
        "b3 = np.zeros([4,1])"
      ],
      "execution_count": 38,
      "outputs": []
    },
    {
      "cell_type": "markdown",
      "metadata": {
        "id": "Yebx4RyiFHiv"
      },
      "source": [
        "we used only 200 number of the dataset because the lack of speed\n",
        "but with the new approach we have enough speed to use the whole dataset\n",
        "now we use the whole dataset"
      ]
    },
    {
      "cell_type": "code",
      "metadata": {
        "id": "l11KyX6vzRl7"
      },
      "source": [
        "def sigmoid(x) :\n",
        "  return 1/(1 + np.exp(-x))\n",
        "\n",
        "learning_rate = 1\n",
        "epochs_num = 20\n",
        "batch_size = 10\n",
        "cost_list = []\n",
        "accuracy_list = []\n",
        "for epoch in range(0, epochs_num) :\n",
        "  np.random.shuffle(train_set)\n",
        "  batches = np.array_split(train_set, len(train_set)//batch_size)\n",
        "  cost = 0\n",
        "  accuracy = 0\n",
        "  for batch in batches :\n",
        "    W1_grad = np.zeros([150, 102])\n",
        "    W2_grad = np.zeros([60, 150])\n",
        "    W3_grad = np.zeros([4, 60])\n",
        "    b1_grad = np.zeros([150, 1])\n",
        "    b2_grad = np.zeros([60, 1])\n",
        "    b3_grad = np.zeros([4, 1])\n",
        "    for sample, label in batch :\n",
        "      a1 = sigmoid(W1 @ sample + b1)\n",
        "      a2 = sigmoid(W2 @ a1 + b2)\n",
        "      a3 = sigmoid(W3 @ a2 + b3)\n",
        "      cost += np.sum(np.power((a3-label),2))\n",
        "      if (np.argmax(a3) == np.argmax(label)) :\n",
        "        accuracy += 1\n",
        "\n",
        "      W3_grad += (2 * (a3 - label) * (a3 * (1 - a3))) @ np.transpose(a2)   \n",
        "\n",
        "      b3_grad += 2 * (a3 - label) * (a3 * (1 - a3))\n",
        "      \n",
        "      a2_grad = np.zeros([W3_grad.shape[1], 1])\n",
        "      a2_grad = np.transpose(W3) @ (2 * (a3 - label) * (a3 * (1 - a3)))\n",
        "\n",
        "      W2_grad += (a2_grad * (a2 * (1 - a2))) @ np.transpose(a1)\n",
        "\n",
        "      b2_grad += a2_grad * (a2 * (1 - a2))\n",
        "                    \n",
        "      a1_grad = np.zeros([W2_grad.shape[1], 1])\n",
        "      a1_grad += np.transpose(W2) @ (a2_grad * (a2 * (1 - a2)))\n",
        "\n",
        "      W1_grad += (a1_grad * (a1 * (1 - a1))) @ np.transpose(sample)\n",
        "\n",
        "      b1_grad += a1_grad * (a1 * (1 - a1))\n",
        "        \n",
        "    W3 = W3 - (learning_rate * (W3_grad / batch_size))\n",
        "    W2 = W2 - (learning_rate * (W2_grad / batch_size))\n",
        "    W1 = W1 - (learning_rate * (W1_grad / batch_size))\n",
        "        \n",
        "    b3 = b3 - (learning_rate * (b3_grad / batch_size))\n",
        "    b2 = b2 - (learning_rate * (b2_grad / batch_size))\n",
        "    b1 = b1 - (learning_rate * (b1_grad / batch_size))\n",
        "  cost_list.append(cost / len(train_set))\n",
        "  accuracy_list.append(accuracy / len(train_set))"
      ],
      "execution_count": 39,
      "outputs": []
    },
    {
      "cell_type": "markdown",
      "metadata": {
        "id": "6uTjr_IBL829"
      },
      "source": [
        "this will take about 14 seconds for 20 epochs and whole of the train set (1962)"
      ]
    },
    {
      "cell_type": "code",
      "metadata": {
        "colab": {
          "base_uri": "https://localhost:8080/",
          "height": 609
        },
        "id": "T7W6_fiRzSVL",
        "outputId": "5da0a30d-3cba-4980-cb55-810444f9a6d3"
      },
      "source": [
        "epoch_size = [x for x in range(epochs_num)]\n",
        "plt.plot(epoch_size, cost_list)\n",
        "cost_list"
      ],
      "execution_count": 40,
      "outputs": [
        {
          "output_type": "execute_result",
          "data": {
            "text/plain": [
              "[2.004099953408059,\n",
              " 1.9348536161675574,\n",
              " 1.1721500826357676,\n",
              " 1.0028251069844858,\n",
              " 1.00140398548343,\n",
              " 1.0007791267101362,\n",
              " 1.000391305587344,\n",
              " 1.000723730451932,\n",
              " 0.9986556359418154,\n",
              " 0.9354070468684568,\n",
              " 0.7190859450769831,\n",
              " 0.07089081800565276,\n",
              " 0.004598875393549818,\n",
              " 0.002553727524616253,\n",
              " 0.0018462842625884676,\n",
              " 0.0013257866352535304,\n",
              " 0.0011484130771179642,\n",
              " 0.000931654533580164,\n",
              " 0.0008100093468801604,\n",
              " 0.0006923325380746771]"
            ]
          },
          "metadata": {},
          "execution_count": 40
        },
        {
          "output_type": "display_data",
          "data": {
            "image/png": "[encoded data removed]",
            "text/plain": [
              "<Figure size 432x288 with 1 Axes>"
            ]
          },
          "metadata": {
            "needs_background": "light"
          }
        }
      ]
    },
    {
      "cell_type": "code",
      "metadata": {
        "colab": {
          "base_uri": "https://localhost:8080/",
          "height": 609
        },
        "id": "n4Biuir2AH7S",
        "outputId": "e038f383-ba71-4999-a1da-570355601016"
      },
      "source": [
        "epoch_size = [x for x in range(epochs_num)]\n",
        "plt.plot(epoch_size, accuracy_list)\n",
        "accuracy_list"
      ],
      "execution_count": 41,
      "outputs": [
        {
          "output_type": "execute_result",
          "data": {
            "text/plain": [
              "[0.24974515800203873,\n",
              " 0.24974515800203873,\n",
              " 0.24974515800203873,\n",
              " 0.24974515800203873,\n",
              " 0.24974515800203873,\n",
              " 0.24974515800203873,\n",
              " 0.24974515800203873,\n",
              " 0.24974515800203873,\n",
              " 0.24974515800203873,\n",
              " 0.24974515800203873,\n",
              " 0.29408766564729866,\n",
              " 0.9734964322120285,\n",
              " 1.0,\n",
              " 1.0,\n",
              " 1.0,\n",
              " 1.0,\n",
              " 1.0,\n",
              " 1.0,\n",
              " 1.0,\n",
              " 1.0]"
            ]
          },
          "metadata": {},
          "execution_count": 41
        },
        {
          "output_type": "display_data",
          "data": {
            "image/png": "[encoded data removed]",
            "text/plain": [
              "<Figure size 432x288 with 1 Axes>"
            ]
          },
          "metadata": {
            "needs_background": "light"
          }
        }
      ]
    },
    {
      "cell_type": "markdown",
      "metadata": {
        "id": "_b5nTCUJE9U4"
      },
      "source": [
        "# Testing"
      ]
    },
    {
      "cell_type": "code",
      "metadata": {
        "colab": {
          "base_uri": "https://localhost:8080/"
        },
        "id": "Dyd_a2QkFAPJ",
        "outputId": "d059e839-a3b6-4f8e-ed2a-37284885724a"
      },
      "source": [
        "cost = 0\n",
        "accuracy = 0\n",
        "for sample, label in test_set :\n",
        "      a1 = sigmoid(W1 @ sample + b1)\n",
        "      a2 = sigmoid(W2 @ a1 + b2)\n",
        "      a3 = sigmoid(W3 @ a2 + b3)\n",
        "      cost += np.sum(np.power((a3-label),2))\n",
        "      if (np.argmax(a3) == np.argmax(label)) :\n",
        "        accuracy += 1\n",
        "print(cost / len(test_set))\n",
        "print(accuracy / len(test_set))"
      ],
      "execution_count": 42,
      "outputs": [
        {
          "output_type": "stream",
          "name": "stdout",
          "text": [
            "0.002700232935005279\n",
            "1.0\n"
          ]
        }
      ]
    },
    {
      "cell_type": "code",
      "metadata": {
        "colab": {
          "base_uri": "https://localhost:8080/"
        },
        "id": "qOQ5anx_HM1h",
        "outputId": "4ff6adb3-dcbe-426e-fa69-57f31723959d"
      },
      "source": [
        "a3"
      ],
      "execution_count": 43,
      "outputs": [
        {
          "output_type": "execute_result",
          "data": {
            "text/plain": [
              "array([[0.98755414],\n",
              "       [0.00452394],\n",
              "       [0.03010565],\n",
              "       [0.00659205]])"
            ]
          },
          "metadata": {},
          "execution_count": 43
        }
      ]
    },
    {
      "cell_type": "code",
      "metadata": {
        "id": "DiQjAEliHRQx"
      },
      "source": [
        ""
      ],
      "execution_count": null,
      "outputs": []
    }
  ]
}