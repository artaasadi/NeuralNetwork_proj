{
  "nbformat": 4,
  "nbformat_minor": 0,
  "metadata": {
    "colab": {
      "name": "AI_Project.ipynb",
      "provenance": [],
      "collapsed_sections": [],
      "toc_visible": true,
      "authorship_tag": "ABX9TyPj0btTVNptQal5txVxv3zT",
      "include_colab_link": true
    },
    "kernelspec": {
      "name": "python3",
      "display_name": "Python 3"
    },
    "language_info": {
      "name": "python"
    }
  },
  "cells": [
    {
      "cell_type": "markdown",
      "metadata": {
        "id": "view-in-github",
        "colab_type": "text"
      },
      "source": [
        "<a href=\"https://colab.research.google.com/github/artaasadi/NeuralNetwork_proj/blob/main/AI_Project.ipynb\" target=\"_parent\"><img src=\"https://colab.research.google.com/assets/colab-badge.svg\" alt=\"Open In Colab\"/></a>"
      ]
    },
    {
      "cell_type": "code",
      "metadata": {
        "id": "Cqh5Q1UoecNW"
      },
      "source": [
        "import numpy as np\n",
        "import pandas as pd\n",
        "import pickle\n",
        "import random\n",
        "import matplotlib.pyplot as plt"
      ],
      "execution_count": 101,
      "outputs": []
    },
    {
      "cell_type": "code",
      "metadata": {
        "colab": {
          "base_uri": "https://localhost:8080/"
        },
        "id": "MxRg6QzafeVE",
        "outputId": "7b4b9a36-3818-4a92-8590-e4ff5de16229"
      },
      "source": [
        "from google.colab import drive\n",
        "drive.mount('/content/drive')"
      ],
      "execution_count": 102,
      "outputs": [
        {
          "output_type": "stream",
          "name": "stdout",
          "text": [
            "Drive already mounted at /content/drive; to attempt to forcibly remount, call drive.mount(\"/content/drive\", force_remount=True).\n"
          ]
        }
      ]
    },
    {
      "cell_type": "code",
      "metadata": {
        "colab": {
          "base_uri": "https://localhost:8080/"
        },
        "id": "37c3zN8Vg4LK",
        "outputId": "0bf20076-40bc-4bee-9ae6-ae02b863efb0"
      },
      "source": [
        "cd AI_Project_Files/"
      ],
      "execution_count": 35,
      "outputs": [
        {
          "output_type": "stream",
          "name": "stdout",
          "text": [
            "[Errno 2] No such file or directory: 'AI_Project_Files/'\n",
            "/content/drive/My Drive/Colab Notebooks/AI_Project_Files\n"
          ]
        }
      ]
    },
    {
      "cell_type": "code",
      "metadata": {
        "colab": {
          "base_uri": "https://localhost:8080/"
        },
        "id": "40e-Q9pKh285",
        "outputId": "5daaabe3-eaf2-43db-c145-23f217e9e317"
      },
      "source": [
        "# loading training set features\n",
        "f = open(\"Datasets/train_set_features.pkl\", \"rb\")\n",
        "train_set_features2 = pickle.load(f)\n",
        "f.close()\n",
        "\n",
        "# reducing feature vector length \n",
        "features_STDs = np.std(a=train_set_features2, axis=0)\n",
        "train_set_features = train_set_features2[:, features_STDs > 52.3]\n",
        "\n",
        "# changing the range of data between 0 and 1\n",
        "train_set_features = np.divide(train_set_features, train_set_features.max())\n",
        "\n",
        "# loading training set labels\n",
        "f = open(\"Datasets/train_set_labels.pkl\", \"rb\")\n",
        "train_set_labels = pickle.load(f)\n",
        "f.close()\n",
        "\n",
        "# ------------\n",
        "# loading test set features\n",
        "f = open(\"Datasets/test_set_features.pkl\", \"rb\")\n",
        "test_set_features2 = pickle.load(f)\n",
        "f.close()\n",
        "\n",
        "# reducing feature vector length \n",
        "features_STDs = np.std(a=test_set_features2, axis=0)\n",
        "test_set_features = test_set_features2[:, features_STDs > 48]\n",
        "\n",
        "# changing the range of data between 0 and 1\n",
        "test_set_features = np.divide(test_set_features, test_set_features.max())\n",
        "\n",
        "# loading test set labels\n",
        "f = open(\"Datasets/test_set_labels.pkl\", \"rb\")\n",
        "test_set_labels = pickle.load(f)\n",
        "f.close()\n",
        "\n",
        "# ------------\n",
        "# preparing our training and test sets - joining datasets and lables\n",
        "train_set = []\n",
        "test_set = []\n",
        "\n",
        "for i in range(len(train_set_features)):\n",
        "    label = np.array([0,0,0,0])\n",
        "    label[int(train_set_labels[i])] = 1\n",
        "    label = label.reshape(4,1)\n",
        "    train_set.append((train_set_features[i].reshape(102,1), label))\n",
        "    \n",
        "\n",
        "for i in range(len(test_set_features)):\n",
        "    label = np.array([0,0,0,0])\n",
        "    label[int(test_set_labels[i])] = 1\n",
        "    label = label.reshape(4,1)\n",
        "    test_set.append((test_set_features[i].reshape(102,1), label))\n",
        "\n",
        "# shuffle\n",
        "random.shuffle(train_set)\n",
        "random.shuffle(test_set)\n",
        "\n",
        "# print size\n",
        "print(len(train_set)) #1962\n",
        "print(len(test_set)) #662"
      ],
      "execution_count": 103,
      "outputs": [
        {
          "output_type": "stream",
          "name": "stdout",
          "text": [
            "1962\n",
            "662\n"
          ]
        }
      ]
    },
    {
      "cell_type": "code",
      "metadata": {
        "id": "UNYgAI38h5aH"
      },
      "source": [
        "W1 = np.random.normal(0, 1.0, [150, 102])\n",
        "W2 = np.random.normal(0, 1.0, [60, 150])\n",
        "W3 = np.random.normal(0, 1.0, [4, 60])\n",
        "b1 = np.zeros([150,1])\n",
        "b2 = np.zeros([60,1])\n",
        "b3 = np.zeros([4,1])"
      ],
      "execution_count": 104,
      "outputs": []
    },
    {
      "cell_type": "code",
      "metadata": {
        "colab": {
          "base_uri": "https://localhost:8080/",
          "height": 265
        },
        "id": "LIFZMLIArRnk",
        "outputId": "6707599a-758e-4634-c20b-d757e938a79d"
      },
      "source": [
        "import matplotlib.pyplot as plt\n",
        "count, bins, ignored = plt.hist(W1[2], 30, density=True)\n",
        "plt.plot(bins, 1/(np.sqrt(2 * np.pi)) *\n",
        "               np.exp( - (bins)**2 / 2 ),\n",
        "         linewidth=2, color='r')\n",
        "plt.show()"
      ],
      "execution_count": 105,
      "outputs": [
        {
          "output_type": "display_data",
          "data": {
            "image/png": "[encoded data removed]",
            "text/plain": [
              "<Figure size 432x288 with 1 Axes>"
            ]
          },
          "metadata": {
            "needs_background": "light"
          }
        }
      ]
    },
    {
      "cell_type": "code",
      "metadata": {
        "colab": {
          "base_uri": "https://localhost:8080/"
        },
        "id": "PgdWlEQwvLBi",
        "outputId": "c7e46248-1ce8-4be4-a13b-061f84b27916"
      },
      "source": [
        "train_set200 = np.array(random.sample(train_set, 200))\n",
        "test_set200 = np.array(random.sample(test_set, 200))\n",
        "train_set = np.array(train_set)\n",
        "test_set = np.array(test_set)"
      ],
      "execution_count": 106,
      "outputs": [
        {
          "output_type": "stream",
          "name": "stderr",
          "text": [
            "/usr/local/lib/python3.7/dist-packages/ipykernel_launcher.py:1: VisibleDeprecationWarning: Creating an ndarray from ragged nested sequences (which is a list-or-tuple of lists-or-tuples-or ndarrays with different lengths or shapes) is deprecated. If you meant to do this, you must specify 'dtype=object' when creating the ndarray\n",
            "  \"\"\"Entry point for launching an IPython kernel.\n",
            "/usr/local/lib/python3.7/dist-packages/ipykernel_launcher.py:2: VisibleDeprecationWarning: Creating an ndarray from ragged nested sequences (which is a list-or-tuple of lists-or-tuples-or ndarrays with different lengths or shapes) is deprecated. If you meant to do this, you must specify 'dtype=object' when creating the ndarray\n",
            "  \n",
            "/usr/local/lib/python3.7/dist-packages/ipykernel_launcher.py:3: VisibleDeprecationWarning: Creating an ndarray from ragged nested sequences (which is a list-or-tuple of lists-or-tuples-or ndarrays with different lengths or shapes) is deprecated. If you meant to do this, you must specify 'dtype=object' when creating the ndarray\n",
            "  This is separate from the ipykernel package so we can avoid doing imports until\n",
            "/usr/local/lib/python3.7/dist-packages/ipykernel_launcher.py:4: VisibleDeprecationWarning: Creating an ndarray from ragged nested sequences (which is a list-or-tuple of lists-or-tuples-or ndarrays with different lengths or shapes) is deprecated. If you meant to do this, you must specify 'dtype=object' when creating the ndarray\n",
            "  after removing the cwd from sys.path.\n"
          ]
        }
      ]
    },
    {
      "cell_type": "code",
      "metadata": {
        "colab": {
          "base_uri": "https://localhost:8080/"
        },
        "id": "5pi0iJAqz-sw",
        "outputId": "78f8ad81-0b2a-4012-d87f-5ab97ccb5dcf"
      },
      "source": [
        "def sigmoid(x) :\n",
        "  return 1/(1 + np.exp(-x))\n",
        "\n",
        "counter = 0\n",
        "for sample in train_set200 :\n",
        "  a1 = sigmoid(W1 @ sample[0] + b1)\n",
        "  a2 = sigmoid(W2 @ a1 + b2)\n",
        "  a3 = sigmoid(W3 @ a2 + b3)\n",
        "  if (np.argmax(a3) == np.argmax(sample[1])) :\n",
        "    counter += 1\n",
        "accuracy = (counter/200)\n",
        "print(accuracy)"
      ],
      "execution_count": 107,
      "outputs": [
        {
          "output_type": "stream",
          "name": "stdout",
          "text": [
            "0.19\n"
          ]
        }
      ]
    },
    {
      "cell_type": "code",
      "metadata": {
        "id": "ktaCIzY31twW"
      },
      "source": [
        ""
      ],
      "execution_count": null,
      "outputs": []
    },
    {
      "cell_type": "markdown",
      "metadata": {
        "id": "k_HM9jpj1mWw"
      },
      "source": [
        "# BackPropagation\n"
      ]
    },
    {
      "cell_type": "code",
      "metadata": {
        "id": "ImpkSVY43Wpj"
      },
      "source": [
        "def sigmoid(x) :\n",
        "  return 1/(1 + np.exp(-x))\n",
        "\n",
        "learning_rate = 1\n",
        "epochs_num = 20\n",
        "batch_size = 10\n",
        "cost_list = []\n",
        "accuracy_list = []\n",
        "for epoch in range(0, epochs_num) :\n",
        "  np.random.shuffle(train_set200)\n",
        "  batches = np.array_split(train_set200, 200//batch_size)\n",
        "  cost = 0\n",
        "  accuracy = 0\n",
        "  for batch in batches :\n",
        "    W1_grad = np.zeros([150, 102])\n",
        "    W2_grad = np.zeros([60, 150])\n",
        "    W3_grad = np.zeros([4, 60])\n",
        "    b1_grad = np.zeros([150, 1])\n",
        "    b2_grad = np.zeros([60, 1])\n",
        "    b3_grad = np.zeros([4, 1])\n",
        "    for sample, label in batch :\n",
        "      a1 = sigmoid(W1 @ sample + b1)\n",
        "      a2 = sigmoid(W2 @ a1 + b2)\n",
        "      a3 = sigmoid(W3 @ a2 + b3)\n",
        "      cost += np.sum(np.power((a3-label),2))\n",
        "      if (np.argmax(a3) == np.argmax(label)) :\n",
        "        accuracy += 1\n",
        "\n",
        "      # ---- Last layer\n",
        "      # weight\n",
        "      for j in range(W3_grad.shape[0]):\n",
        "        for k in range(W3_grad.shape[1]):\n",
        "          W3_grad[j, k] += 2 * (a3[j, 0] - label[j, 0]) * a3[j, 0] * (1 - a3[j, 0]) * a2[k, 0]\n",
        "            \n",
        "            # bias\n",
        "      for j in range(b3_grad.shape[0]):\n",
        "        b3_grad[j, 0] += 2 * (a3[j, 0] - label[j, 0]) * a3[j, 0] * (1 - a3[j, 0])\n",
        "            \n",
        "            # ---- 3rd layer\n",
        "            # activation\n",
        "      a2_grad = np.zeros((W3_grad.shape[1], 1))\n",
        "      for k in range(W3_grad.shape[1]):\n",
        "        for j in range(W3_grad.shape[0]):\n",
        "          a2_grad[k, 0] += 2 * (a3[j, 0] - label[j, 0]) * a3[j, 0] * (1 - a3[j, 0]) * W3[j, k]\n",
        "            \n",
        "            # weight\n",
        "      for k in range(W2_grad.shape[0]):\n",
        "        for m in range(W2_grad.shape[1]):\n",
        "          W2_grad[k, m] += delta_3[k, 0] * a2[k,0] * (1 - a2[k, 0]) * a1[m, 0]\n",
        "            \n",
        "            # bias\n",
        "      for k in range(b2_grad.shape[0]):\n",
        "        b2_grad[k, 0] += delta_3[k, 0] * a2[k, 0] * (1 - a2[k, 0])\n",
        "                    \n",
        "            # ---- 2nd layer\n",
        "            # activation\n",
        "      a1_grad = np.zeros((W2_grad.shape[1], 1))\n",
        "      for m in range(W2_grad.shape[1]):\n",
        "        for k in range(W2_grad.shape[0]):\n",
        "          a1_grad[m, 0] += delta_3[k, 0] * a2[k, 0] * (1 - a2[k, 0]) * W2[k, m]\n",
        "            \n",
        "            # weight\n",
        "      for m in range(W1_grad.shape[0]):\n",
        "        for v in range(W1_grad.shape[1]):\n",
        "          W1_grad[m, v] += delta_2[m, 0] * a1[m,0] * (1 - a1[m, 0]) * sample[v, 0]\n",
        "                    \n",
        "            # bias\n",
        "      for m in range(b1_grad.shape[0]):\n",
        "        b1_grad[m, 0] += delta_2[m, 0] * a1[m, 0] * (1 - a1[m, 0])\n",
        "        \n",
        "    W3 = W3 - (learning_rate * (W3_grad / batch_size))\n",
        "    W2 = W2 - (learning_rate * (W2_grad / batch_size))\n",
        "    W1 = W1 - (learning_rate * (W1_grad / batch_size))\n",
        "        \n",
        "    b3 = b3 - (learning_rate * (b3_grad / batch_size))\n",
        "    b2 = b2 - (learning_rate * (b2_grad / batch_size))\n",
        "    b1 = b1 - (learning_rate * (b1_grad / batch_size))\n",
        "  cost_list.append(cost / 200)\n",
        "  accuracy_list.append(accuracy / 200)"
      ],
      "execution_count": 98,
      "outputs": []
    },
    {
      "cell_type": "code",
      "metadata": {
        "colab": {
          "base_uri": "https://localhost:8080/",
          "height": 282
        },
        "id": "6_kSijplvayS",
        "outputId": "84838ed5-c84f-4ad1-bdb2-3c182f69fb40"
      },
      "source": [
        "epoch_size = [x for x in range(epochs_num)]\n",
        "plt.plot(epoch_size, cost_list)\n",
        "cost_list"
      ],
      "execution_count": 99,
      "outputs": [
        {
          "output_type": "execute_result",
          "data": {
            "text/plain": [
              "[<matplotlib.lines.Line2D at 0x7f9e1defaa50>]"
            ]
          },
          "metadata": {},
          "execution_count": 99
        },
        {
          "output_type": "display_data",
          "data": {
            "image/png": "[encoded data removed]",
            "text/plain": [
              "<Figure size 432x288 with 1 Axes>"
            ]
          },
          "metadata": {
            "needs_background": "light"
          }
        }
      ]
    },
    {
      "cell_type": "code",
      "metadata": {
        "colab": {
          "base_uri": "https://localhost:8080/",
          "height": 282
        },
        "id": "yFXk8e-T2aA-",
        "outputId": "cd649efe-8ba4-4c38-aceb-19bb95bb7e34"
      },
      "source": [
        "epoch_size = [x for x in range(epochs_num)]\n",
        "plt.plot(epoch_size, accuracy_list)\n",
        "accuracy_list"
      ],
      "execution_count": 100,
      "outputs": [
        {
          "output_type": "execute_result",
          "data": {
            "text/plain": [
              "[<matplotlib.lines.Line2D at 0x7f9e1dec7290>]"
            ]
          },
          "metadata": {},
          "execution_count": 100
        },
        {
          "output_type": "display_data",
          "data": {
            "image/png": "[encoded data removed]",
            "text/plain": [
              "<Figure size 432x288 with 1 Axes>"
            ]
          },
          "metadata": {
            "needs_background": "light"
          }
        }
      ]
    },
    {
      "cell_type": "markdown",
      "metadata": {
        "id": "nuH5YPgF915P"
      },
      "source": [
        "# Vectorization"
      ]
    },
    {
      "cell_type": "code",
      "metadata": {
        "id": "l11KyX6vzRl7"
      },
      "source": [
        "def sigmoid(x) :\n",
        "  return 1/(1 + np.exp(-x))\n",
        "\n",
        "learning_rate = 1\n",
        "epochs_num = 20\n",
        "batch_size = 10\n",
        "cost_list = []\n",
        "accuracy_list = []\n",
        "for epoch in range(0, epochs_num) :\n",
        "  np.random.shuffle(train_set200)\n",
        "  batches = np.array_split(train_set200, 200//batch_size)\n",
        "  cost = 0\n",
        "  accuracy = 0\n",
        "  for batch in batches :\n",
        "    W1_grad = np.zeros([150, 102])\n",
        "    W2_grad = np.zeros([60, 150])\n",
        "    W3_grad = np.zeros([4, 60])\n",
        "    b1_grad = np.zeros([150, 1])\n",
        "    b2_grad = np.zeros([60, 1])\n",
        "    b3_grad = np.zeros([4, 1])\n",
        "    for sample, label in batch :\n",
        "      a1 = sigmoid(W1 @ sample + b1)\n",
        "      a2 = sigmoid(W2 @ a1 + b2)\n",
        "      a3 = sigmoid(W3 @ a2 + b3)\n",
        "      cost += np.sum(np.power((a3-label),2))\n",
        "      if (np.argmax(a3) == np.argmax(label)) :\n",
        "        accuracy += 1\n",
        "\n",
        "      W3_grad += (2 * (a3 - label) * (a3 * (1 - a3))) @ np.transpose(a2)   \n",
        "\n",
        "      b3_grad += 2 * (a3 - label) * (a3 * (1 - a3))\n",
        "      \n",
        "      a2_grad = np.zeros([W3_grad.shape[1], 1])\n",
        "      a2_grad = np.transpose(W3) @ (2 * (a3 - label) * (a3 * (1 - a3)))\n",
        "\n",
        "      W2_grad += (a2_grad * (a2 * (1 - a2))) @ np.transpose(a1)\n",
        "\n",
        "      b2_grad += a2_grad * (a2 * (1 - a2))\n",
        "                    \n",
        "            # ---- 2nd layer\n",
        "            # activation\n",
        "      a1_grad = np.zeros([W2_grad.shape[1], 1])\n",
        "      a1_grad += np.transpose(W2) @ (a2_grad * (a2 * (1 - a2)))\n",
        "            # weight\n",
        "\n",
        "      W1_grad += (a1_grad * (a1 * (1 - a1))) @ np.transpose(sample)\n",
        "\n",
        "      b1_grad += delta_2 * (a1 * (1 - a1))\n",
        "        \n",
        "    W3 = W3 - (learning_rate * (W3_grad / batch_size))\n",
        "    W2 = W2 - (learning_rate * (W2_grad / batch_size))\n",
        "    W1 = W1 - (learning_rate * (W1_grad / batch_size))\n",
        "        \n",
        "    b3 = b3 - (learning_rate * (b3_grad / batch_size))\n",
        "    b2 = b2 - (learning_rate * (b2_grad / batch_size))\n",
        "    b1 = b1 - (learning_rate * (b1_grad / batch_size))\n",
        "  cost_list.append(cost / 200)\n",
        "  accuracy_list.append(accuracy / 200)"
      ],
      "execution_count": 109,
      "outputs": []
    },
    {
      "cell_type": "code",
      "metadata": {
        "colab": {
          "base_uri": "https://localhost:8080/",
          "height": 282
        },
        "id": "T7W6_fiRzSVL",
        "outputId": "0b0ceead-cbfc-4bbc-cba9-4d907261ead3"
      },
      "source": [
        "epoch_size = [x for x in range(epochs_num)]\n",
        "plt.plot(epoch_size, cost_list)\n"
      ],
      "execution_count": 112,
      "outputs": [
        {
          "output_type": "execute_result",
          "data": {
            "text/plain": [
              "[<matplotlib.lines.Line2D at 0x7f9e1e30a290>]"
            ]
          },
          "metadata": {},
          "execution_count": 112
        },
        {
          "output_type": "display_data",
          "data": {
            "image/png": "[encoded data removed]",
            "text/plain": [
              "<Figure size 432x288 with 1 Axes>"
            ]
          },
          "metadata": {
            "needs_background": "light"
          }
        }
      ]
    },
    {
      "cell_type": "code",
      "metadata": {
        "colab": {
          "base_uri": "https://localhost:8080/",
          "height": 282
        },
        "id": "n4Biuir2AH7S",
        "outputId": "a61c9925-6fa4-4126-af41-d19ead628a78"
      },
      "source": [
        "epoch_size = [x for x in range(epochs_num)]\n",
        "plt.plot(epoch_size, accuracy_list)\n"
      ],
      "execution_count": 113,
      "outputs": [
        {
          "output_type": "execute_result",
          "data": {
            "text/plain": [
              "[<matplotlib.lines.Line2D at 0x7f9e1dffa810>]"
            ]
          },
          "metadata": {},
          "execution_count": 113
        },
        {
          "output_type": "display_data",
          "data": {
            "image/png": "[encoded data removed]",
            "text/plain": [
              "<Figure size 432x288 with 1 Axes>"
            ]
          },
          "metadata": {
            "needs_background": "light"
          }
        }
      ]
    },
    {
      "cell_type": "code",
      "metadata": {
        "id": "agYhBhmsBi8V"
      },
      "source": [
        ""
      ],
      "execution_count": null,
      "outputs": []
    }
  ]
}